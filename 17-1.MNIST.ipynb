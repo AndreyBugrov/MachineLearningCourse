{
  "cells": [
    {
      "cell_type": "markdown",
      "metadata": {
        "id": "hoZJLiyiFKQ9"
      },
      "source": [
        "## Download the required libraries\n",
        "## Загружаем нужные библиотеки:\n"
      ]
    },
    {
      "cell_type": "code",
      "execution_count": null,
      "metadata": {
        "id": "NGHwmQm1FKRB"
      },
      "outputs": [],
      "source": [
        "import numpy as np\n",
        "import matplotlib.pyplot as plt\n",
        "%matplotlib inline"
      ]
    },
    {
      "cell_type": "markdown",
      "metadata": {
        "id": "FtK5lhmgFKRG"
      },
      "source": [
        "### Download the dataset:\n",
        "\n",
        "### Загружаем данные:"
      ]
    },
    {
      "cell_type": "code",
      "execution_count": null,
      "metadata": {
        "id": "SMmVDl6GFKRG"
      },
      "outputs": [],
      "source": [
        "from sklearn.datasets import fetch_openml\n",
        "\n",
        "# Загружаем данные из https://www.openml.org/d/554\n",
        "X, y = fetch_openml('mnist_784', return_X_y = True, as_frame = False)"
      ]
    },
    {
      "cell_type": "code",
      "execution_count": null,
      "metadata": {
        "colab": {
          "base_uri": "https://localhost:8080/"
        },
        "id": "ybO8NocuFKRM",
        "outputId": "99c2af45-0a19-4034-d64f-2e81056e73ab"
      },
      "outputs": [
        {
          "output_type": "execute_result",
          "data": {
            "text/plain": [
              "(70000, 784)"
            ]
          },
          "metadata": {},
          "execution_count": 3
        }
      ],
      "source": [
        "N, d = X.shape\n",
        "N, d"
      ]
    },
    {
      "cell_type": "code",
      "source": [
        "y.shape"
      ],
      "metadata": {
        "colab": {
          "base_uri": "https://localhost:8080/"
        },
        "id": "xhXqZYutgZkK",
        "outputId": "8578ca86-1577-442a-f14b-fa3e41226ee1"
      },
      "execution_count": null,
      "outputs": [
        {
          "output_type": "execute_result",
          "data": {
            "text/plain": [
              "(70000,)"
            ]
          },
          "metadata": {},
          "execution_count": 4
        }
      ]
    },
    {
      "cell_type": "code",
      "execution_count": null,
      "metadata": {
        "colab": {
          "base_uri": "https://localhost:8080/"
        },
        "id": "bCbP8PMbLLBZ",
        "outputId": "bd03ec34-2e68-435f-dfb3-bf80f8b55643"
      },
      "outputs": [
        {
          "output_type": "execute_result",
          "data": {
            "text/plain": [
              "784"
            ]
          },
          "metadata": {},
          "execution_count": 5
        }
      ],
      "source": [
        "28**2"
      ]
    },
    {
      "cell_type": "code",
      "execution_count": null,
      "metadata": {
        "colab": {
          "base_uri": "https://localhost:8080/"
        },
        "id": "ZNNthXLhLLBZ",
        "outputId": "101cb95c-8411-4595-99cc-972ebbd0c9b3"
      },
      "outputs": [
        {
          "output_type": "execute_result",
          "data": {
            "text/plain": [
              "array([[0., 0., 0., ..., 0., 0., 0.],\n",
              "       [0., 0., 0., ..., 0., 0., 0.],\n",
              "       [0., 0., 0., ..., 0., 0., 0.],\n",
              "       ...,\n",
              "       [0., 0., 0., ..., 0., 0., 0.],\n",
              "       [0., 0., 0., ..., 0., 0., 0.],\n",
              "       [0., 0., 0., ..., 0., 0., 0.]])"
            ]
          },
          "metadata": {},
          "execution_count": 6
        }
      ],
      "source": [
        "X"
      ]
    },
    {
      "cell_type": "code",
      "execution_count": null,
      "metadata": {
        "id": "-m8SluRNLLBa"
      },
      "outputs": [],
      "source": [
        "X0 = X[0,:]"
      ]
    },
    {
      "cell_type": "code",
      "execution_count": null,
      "metadata": {
        "colab": {
          "base_uri": "https://localhost:8080/"
        },
        "id": "i5sWU28uLLBa",
        "outputId": "6d4d8dcb-5d5c-422d-885d-166667b14e7a"
      },
      "outputs": [
        {
          "output_type": "execute_result",
          "data": {
            "text/plain": [
              "array([  0.,   0.,   0.,   0.,   0.,   0.,   0.,   0.,   0.,   0.,   0.,\n",
              "         0.,   0.,   0.,   0.,   0.,   0.,   0.,   0.,   0.,   0.,   0.,\n",
              "         0.,   0.,   0.,   0.,   0.,   0.,   0.,   0.,   0.,   0.,   0.,\n",
              "         0.,   0.,   0.,   0.,   0.,   0.,   0.,   0.,   0.,   0.,   0.,\n",
              "         0.,   0.,   0.,   0.,   0.,   0.,   0.,   0.,   0.,   0.,   0.,\n",
              "         0.,   0.,   0.,   0.,   0.,   0.,   0.,   0.,   0.,   0.,   0.,\n",
              "         0.,   0.,   0.,   0.,   0.,   0.,   0.,   0.,   0.,   0.,   0.,\n",
              "         0.,   0.,   0.,   0.,   0.,   0.,   0.,   0.,   0.,   0.,   0.,\n",
              "         0.,   0.,   0.,   0.,   0.,   0.,   0.,   0.,   0.,   0.,   0.,\n",
              "         0.,   0.,   0.,   0.,   0.,   0.,   0.,   0.,   0.,   0.,   0.,\n",
              "         0.,   0.,   0.,   0.,   0.,   0.,   0.,   0.,   0.,   0.,   0.,\n",
              "         0.,   0.,   0.,   0.,   0.,   0.,   0.,   0.,   0.,   0.,   0.,\n",
              "         0.,   0.,   0.,   0.,   0.,   0.,   0.,   0.,   0.,   0.,   0.,\n",
              "         0.,   0.,   0.,   0.,   0.,   0.,   0.,   0.,   0.,   3.,  18.,\n",
              "        18.,  18., 126., 136., 175.,  26., 166., 255., 247., 127.,   0.,\n",
              "         0.,   0.,   0.,   0.,   0.,   0.,   0.,   0.,   0.,   0.,   0.,\n",
              "        30.,  36.,  94., 154., 170., 253., 253., 253., 253., 253., 225.,\n",
              "       172., 253., 242., 195.,  64.,   0.,   0.,   0.,   0.,   0.,   0.,\n",
              "         0.,   0.,   0.,   0.,   0.,  49., 238., 253., 253., 253., 253.,\n",
              "       253., 253., 253., 253., 251.,  93.,  82.,  82.,  56.,  39.,   0.,\n",
              "         0.,   0.,   0.,   0.,   0.,   0.,   0.,   0.,   0.,   0.,   0.,\n",
              "        18., 219., 253., 253., 253., 253., 253., 198., 182., 247., 241.,\n",
              "         0.,   0.,   0.,   0.,   0.,   0.,   0.,   0.,   0.,   0.,   0.,\n",
              "         0.,   0.,   0.,   0.,   0.,   0.,   0.,  80., 156., 107., 253.,\n",
              "       253., 205.,  11.,   0.,  43., 154.,   0.,   0.,   0.,   0.,   0.,\n",
              "         0.,   0.,   0.,   0.,   0.,   0.,   0.,   0.,   0.,   0.,   0.,\n",
              "         0.,   0.,   0.,  14.,   1., 154., 253.,  90.,   0.,   0.,   0.,\n",
              "         0.,   0.,   0.,   0.,   0.,   0.,   0.,   0.,   0.,   0.,   0.,\n",
              "         0.,   0.,   0.,   0.,   0.,   0.,   0.,   0.,   0.,   0.,   0.,\n",
              "       139., 253., 190.,   2.,   0.,   0.,   0.,   0.,   0.,   0.,   0.,\n",
              "         0.,   0.,   0.,   0.,   0.,   0.,   0.,   0.,   0.,   0.,   0.,\n",
              "         0.,   0.,   0.,   0.,   0.,   0.,  11., 190., 253.,  70.,   0.,\n",
              "         0.,   0.,   0.,   0.,   0.,   0.,   0.,   0.,   0.,   0.,   0.,\n",
              "         0.,   0.,   0.,   0.,   0.,   0.,   0.,   0.,   0.,   0.,   0.,\n",
              "         0.,   0.,  35., 241., 225., 160., 108.,   1.,   0.,   0.,   0.,\n",
              "         0.,   0.,   0.,   0.,   0.,   0.,   0.,   0.,   0.,   0.,   0.,\n",
              "         0.,   0.,   0.,   0.,   0.,   0.,   0.,   0.,   0.,  81., 240.,\n",
              "       253., 253., 119.,  25.,   0.,   0.,   0.,   0.,   0.,   0.,   0.,\n",
              "         0.,   0.,   0.,   0.,   0.,   0.,   0.,   0.,   0.,   0.,   0.,\n",
              "         0.,   0.,   0.,   0.,   0.,  45., 186., 253., 253., 150.,  27.,\n",
              "         0.,   0.,   0.,   0.,   0.,   0.,   0.,   0.,   0.,   0.,   0.,\n",
              "         0.,   0.,   0.,   0.,   0.,   0.,   0.,   0.,   0.,   0.,   0.,\n",
              "         0.,  16.,  93., 252., 253., 187.,   0.,   0.,   0.,   0.,   0.,\n",
              "         0.,   0.,   0.,   0.,   0.,   0.,   0.,   0.,   0.,   0.,   0.,\n",
              "         0.,   0.,   0.,   0.,   0.,   0.,   0.,   0.,   0., 249., 253.,\n",
              "       249.,  64.,   0.,   0.,   0.,   0.,   0.,   0.,   0.,   0.,   0.,\n",
              "         0.,   0.,   0.,   0.,   0.,   0.,   0.,   0.,   0.,   0.,   0.,\n",
              "         0.,  46., 130., 183., 253., 253., 207.,   2.,   0.,   0.,   0.,\n",
              "         0.,   0.,   0.,   0.,   0.,   0.,   0.,   0.,   0.,   0.,   0.,\n",
              "         0.,   0.,   0.,   0.,   0.,  39., 148., 229., 253., 253., 253.,\n",
              "       250., 182.,   0.,   0.,   0.,   0.,   0.,   0.,   0.,   0.,   0.,\n",
              "         0.,   0.,   0.,   0.,   0.,   0.,   0.,   0.,   0.,  24., 114.,\n",
              "       221., 253., 253., 253., 253., 201.,  78.,   0.,   0.,   0.,   0.,\n",
              "         0.,   0.,   0.,   0.,   0.,   0.,   0.,   0.,   0.,   0.,   0.,\n",
              "         0.,   0.,  23.,  66., 213., 253., 253., 253., 253., 198.,  81.,\n",
              "         2.,   0.,   0.,   0.,   0.,   0.,   0.,   0.,   0.,   0.,   0.,\n",
              "         0.,   0.,   0.,   0.,   0.,   0.,  18., 171., 219., 253., 253.,\n",
              "       253., 253., 195.,  80.,   9.,   0.,   0.,   0.,   0.,   0.,   0.,\n",
              "         0.,   0.,   0.,   0.,   0.,   0.,   0.,   0.,   0.,   0.,  55.,\n",
              "       172., 226., 253., 253., 253., 253., 244., 133.,  11.,   0.,   0.,\n",
              "         0.,   0.,   0.,   0.,   0.,   0.,   0.,   0.,   0.,   0.,   0.,\n",
              "         0.,   0.,   0.,   0.,   0., 136., 253., 253., 253., 212., 135.,\n",
              "       132.,  16.,   0.,   0.,   0.,   0.,   0.,   0.,   0.,   0.,   0.,\n",
              "         0.,   0.,   0.,   0.,   0.,   0.,   0.,   0.,   0.,   0.,   0.,\n",
              "         0.,   0.,   0.,   0.,   0.,   0.,   0.,   0.,   0.,   0.,   0.,\n",
              "         0.,   0.,   0.,   0.,   0.,   0.,   0.,   0.,   0.,   0.,   0.,\n",
              "         0.,   0.,   0.,   0.,   0.,   0.,   0.,   0.,   0.,   0.,   0.,\n",
              "         0.,   0.,   0.,   0.,   0.,   0.,   0.,   0.,   0.,   0.,   0.,\n",
              "         0.,   0.,   0.,   0.,   0.,   0.,   0.,   0.,   0.,   0.,   0.,\n",
              "         0.,   0.,   0.,   0.,   0.,   0.,   0.,   0.,   0.,   0.,   0.,\n",
              "         0.,   0.,   0.,   0.,   0.,   0.,   0.,   0.,   0.,   0.,   0.,\n",
              "         0.,   0.,   0.])"
            ]
          },
          "metadata": {},
          "execution_count": 8
        }
      ],
      "source": [
        "X0"
      ]
    },
    {
      "cell_type": "code",
      "execution_count": null,
      "metadata": {
        "colab": {
          "base_uri": "https://localhost:8080/"
        },
        "id": "olAmGzNoLLBb",
        "outputId": "615c2fc5-3d8d-4b3c-97b4-47431da35142"
      },
      "outputs": [
        {
          "output_type": "execute_result",
          "data": {
            "text/plain": [
              "array([[  0.,   0.,   0.,   0.,   0.,   0.,   0.,   0.,   0.,   0.,   0.,\n",
              "          0.,   0.,   0.,   0.,   0.,   0.,   0.,   0.,   0.,   0.,   0.,\n",
              "          0.,   0.,   0.,   0.,   0.,   0.],\n",
              "       [  0.,   0.,   0.,   0.,   0.,   0.,   0.,   0.,   0.,   0.,   0.,\n",
              "          0.,   0.,   0.,   0.,   0.,   0.,   0.,   0.,   0.,   0.,   0.,\n",
              "          0.,   0.,   0.,   0.,   0.,   0.],\n",
              "       [  0.,   0.,   0.,   0.,   0.,   0.,   0.,   0.,   0.,   0.,   0.,\n",
              "          0.,   0.,   0.,   0.,   0.,   0.,   0.,   0.,   0.,   0.,   0.,\n",
              "          0.,   0.,   0.,   0.,   0.,   0.],\n",
              "       [  0.,   0.,   0.,   0.,   0.,   0.,   0.,   0.,   0.,   0.,   0.,\n",
              "          0.,   0.,   0.,   0.,   0.,   0.,   0.,   0.,   0.,   0.,   0.,\n",
              "          0.,   0.,   0.,   0.,   0.,   0.],\n",
              "       [  0.,   0.,   0.,   0.,   0.,   0.,   0.,   0.,   0.,   0.,   0.,\n",
              "          0.,   0.,   0.,   0.,   0.,   0.,   0.,   0.,   0.,   0.,   0.,\n",
              "          0.,   0.,   0.,   0.,   0.,   0.],\n",
              "       [  0.,   0.,   0.,   0.,   0.,   0.,   0.,   0.,   0.,   0.,   0.,\n",
              "          0.,   3.,  18.,  18.,  18., 126., 136., 175.,  26., 166., 255.,\n",
              "        247., 127.,   0.,   0.,   0.,   0.],\n",
              "       [  0.,   0.,   0.,   0.,   0.,   0.,   0.,   0.,  30.,  36.,  94.,\n",
              "        154., 170., 253., 253., 253., 253., 253., 225., 172., 253., 242.,\n",
              "        195.,  64.,   0.,   0.,   0.,   0.],\n",
              "       [  0.,   0.,   0.,   0.,   0.,   0.,   0.,  49., 238., 253., 253.,\n",
              "        253., 253., 253., 253., 253., 253., 251.,  93.,  82.,  82.,  56.,\n",
              "         39.,   0.,   0.,   0.,   0.,   0.],\n",
              "       [  0.,   0.,   0.,   0.,   0.,   0.,   0.,  18., 219., 253., 253.,\n",
              "        253., 253., 253., 198., 182., 247., 241.,   0.,   0.,   0.,   0.,\n",
              "          0.,   0.,   0.,   0.,   0.,   0.],\n",
              "       [  0.,   0.,   0.,   0.,   0.,   0.,   0.,   0.,  80., 156., 107.,\n",
              "        253., 253., 205.,  11.,   0.,  43., 154.,   0.,   0.,   0.,   0.,\n",
              "          0.,   0.,   0.,   0.,   0.,   0.],\n",
              "       [  0.,   0.,   0.,   0.,   0.,   0.,   0.,   0.,   0.,  14.,   1.,\n",
              "        154., 253.,  90.,   0.,   0.,   0.,   0.,   0.,   0.,   0.,   0.,\n",
              "          0.,   0.,   0.,   0.,   0.,   0.],\n",
              "       [  0.,   0.,   0.,   0.,   0.,   0.,   0.,   0.,   0.,   0.,   0.,\n",
              "        139., 253., 190.,   2.,   0.,   0.,   0.,   0.,   0.,   0.,   0.,\n",
              "          0.,   0.,   0.,   0.,   0.,   0.],\n",
              "       [  0.,   0.,   0.,   0.,   0.,   0.,   0.,   0.,   0.,   0.,   0.,\n",
              "         11., 190., 253.,  70.,   0.,   0.,   0.,   0.,   0.,   0.,   0.,\n",
              "          0.,   0.,   0.,   0.,   0.,   0.],\n",
              "       [  0.,   0.,   0.,   0.,   0.,   0.,   0.,   0.,   0.,   0.,   0.,\n",
              "          0.,  35., 241., 225., 160., 108.,   1.,   0.,   0.,   0.,   0.,\n",
              "          0.,   0.,   0.,   0.,   0.,   0.],\n",
              "       [  0.,   0.,   0.,   0.,   0.,   0.,   0.,   0.,   0.,   0.,   0.,\n",
              "          0.,   0.,  81., 240., 253., 253., 119.,  25.,   0.,   0.,   0.,\n",
              "          0.,   0.,   0.,   0.,   0.,   0.],\n",
              "       [  0.,   0.,   0.,   0.,   0.,   0.,   0.,   0.,   0.,   0.,   0.,\n",
              "          0.,   0.,   0.,  45., 186., 253., 253., 150.,  27.,   0.,   0.,\n",
              "          0.,   0.,   0.,   0.,   0.,   0.],\n",
              "       [  0.,   0.,   0.,   0.,   0.,   0.,   0.,   0.,   0.,   0.,   0.,\n",
              "          0.,   0.,   0.,   0.,  16.,  93., 252., 253., 187.,   0.,   0.,\n",
              "          0.,   0.,   0.,   0.,   0.,   0.],\n",
              "       [  0.,   0.,   0.,   0.,   0.,   0.,   0.,   0.,   0.,   0.,   0.,\n",
              "          0.,   0.,   0.,   0.,   0.,   0., 249., 253., 249.,  64.,   0.,\n",
              "          0.,   0.,   0.,   0.,   0.,   0.],\n",
              "       [  0.,   0.,   0.,   0.,   0.,   0.,   0.,   0.,   0.,   0.,   0.,\n",
              "          0.,   0.,   0.,  46., 130., 183., 253., 253., 207.,   2.,   0.,\n",
              "          0.,   0.,   0.,   0.,   0.,   0.],\n",
              "       [  0.,   0.,   0.,   0.,   0.,   0.,   0.,   0.,   0.,   0.,   0.,\n",
              "          0.,  39., 148., 229., 253., 253., 253., 250., 182.,   0.,   0.,\n",
              "          0.,   0.,   0.,   0.,   0.,   0.],\n",
              "       [  0.,   0.,   0.,   0.,   0.,   0.,   0.,   0.,   0.,   0.,  24.,\n",
              "        114., 221., 253., 253., 253., 253., 201.,  78.,   0.,   0.,   0.,\n",
              "          0.,   0.,   0.,   0.,   0.,   0.],\n",
              "       [  0.,   0.,   0.,   0.,   0.,   0.,   0.,   0.,  23.,  66., 213.,\n",
              "        253., 253., 253., 253., 198.,  81.,   2.,   0.,   0.,   0.,   0.,\n",
              "          0.,   0.,   0.,   0.,   0.,   0.],\n",
              "       [  0.,   0.,   0.,   0.,   0.,   0.,  18., 171., 219., 253., 253.,\n",
              "        253., 253., 195.,  80.,   9.,   0.,   0.,   0.,   0.,   0.,   0.,\n",
              "          0.,   0.,   0.,   0.,   0.,   0.],\n",
              "       [  0.,   0.,   0.,   0.,  55., 172., 226., 253., 253., 253., 253.,\n",
              "        244., 133.,  11.,   0.,   0.,   0.,   0.,   0.,   0.,   0.,   0.,\n",
              "          0.,   0.,   0.,   0.,   0.,   0.],\n",
              "       [  0.,   0.,   0.,   0., 136., 253., 253., 253., 212., 135., 132.,\n",
              "         16.,   0.,   0.,   0.,   0.,   0.,   0.,   0.,   0.,   0.,   0.,\n",
              "          0.,   0.,   0.,   0.,   0.,   0.],\n",
              "       [  0.,   0.,   0.,   0.,   0.,   0.,   0.,   0.,   0.,   0.,   0.,\n",
              "          0.,   0.,   0.,   0.,   0.,   0.,   0.,   0.,   0.,   0.,   0.,\n",
              "          0.,   0.,   0.,   0.,   0.,   0.],\n",
              "       [  0.,   0.,   0.,   0.,   0.,   0.,   0.,   0.,   0.,   0.,   0.,\n",
              "          0.,   0.,   0.,   0.,   0.,   0.,   0.,   0.,   0.,   0.,   0.,\n",
              "          0.,   0.,   0.,   0.,   0.,   0.],\n",
              "       [  0.,   0.,   0.,   0.,   0.,   0.,   0.,   0.,   0.,   0.,   0.,\n",
              "          0.,   0.,   0.,   0.,   0.,   0.,   0.,   0.,   0.,   0.,   0.,\n",
              "          0.,   0.,   0.,   0.,   0.,   0.]])"
            ]
          },
          "metadata": {},
          "execution_count": 9
        }
      ],
      "source": [
        "np.reshape(X0, (28, 28))"
      ]
    },
    {
      "cell_type": "code",
      "source": [],
      "metadata": {
        "id": "LebswUzehccR"
      },
      "execution_count": null,
      "outputs": []
    },
    {
      "cell_type": "markdown",
      "source": [
        "`(1,2,4)` - кортеж (tuple)\n",
        "\n",
        "`[1,2,4]` - вектор"
      ],
      "metadata": {
        "id": "jBl8Ikvyhc2x"
      }
    },
    {
      "cell_type": "code",
      "source": [
        "X0.reshape((28,28))"
      ],
      "metadata": {
        "colab": {
          "base_uri": "https://localhost:8080/"
        },
        "id": "NtEapPR2hOyZ",
        "outputId": "ae90a6e0-c829-4202-ed00-4e9c29ee00c2"
      },
      "execution_count": null,
      "outputs": [
        {
          "output_type": "execute_result",
          "data": {
            "text/plain": [
              "array([[  0.,   0.,   0.,   0.,   0.,   0.,   0.,   0.,   0.,   0.,   0.,\n",
              "          0.,   0.,   0.,   0.,   0.,   0.,   0.,   0.,   0.,   0.,   0.,\n",
              "          0.,   0.,   0.,   0.,   0.,   0.],\n",
              "       [  0.,   0.,   0.,   0.,   0.,   0.,   0.,   0.,   0.,   0.,   0.,\n",
              "          0.,   0.,   0.,   0.,   0.,   0.,   0.,   0.,   0.,   0.,   0.,\n",
              "          0.,   0.,   0.,   0.,   0.,   0.],\n",
              "       [  0.,   0.,   0.,   0.,   0.,   0.,   0.,   0.,   0.,   0.,   0.,\n",
              "          0.,   0.,   0.,   0.,   0.,   0.,   0.,   0.,   0.,   0.,   0.,\n",
              "          0.,   0.,   0.,   0.,   0.,   0.],\n",
              "       [  0.,   0.,   0.,   0.,   0.,   0.,   0.,   0.,   0.,   0.,   0.,\n",
              "          0.,   0.,   0.,   0.,   0.,   0.,   0.,   0.,   0.,   0.,   0.,\n",
              "          0.,   0.,   0.,   0.,   0.,   0.],\n",
              "       [  0.,   0.,   0.,   0.,   0.,   0.,   0.,   0.,   0.,   0.,   0.,\n",
              "          0.,   0.,   0.,   0.,   0.,   0.,   0.,   0.,   0.,   0.,   0.,\n",
              "          0.,   0.,   0.,   0.,   0.,   0.],\n",
              "       [  0.,   0.,   0.,   0.,   0.,   0.,   0.,   0.,   0.,   0.,   0.,\n",
              "          0.,   3.,  18.,  18.,  18., 126., 136., 175.,  26., 166., 255.,\n",
              "        247., 127.,   0.,   0.,   0.,   0.],\n",
              "       [  0.,   0.,   0.,   0.,   0.,   0.,   0.,   0.,  30.,  36.,  94.,\n",
              "        154., 170., 253., 253., 253., 253., 253., 225., 172., 253., 242.,\n",
              "        195.,  64.,   0.,   0.,   0.,   0.],\n",
              "       [  0.,   0.,   0.,   0.,   0.,   0.,   0.,  49., 238., 253., 253.,\n",
              "        253., 253., 253., 253., 253., 253., 251.,  93.,  82.,  82.,  56.,\n",
              "         39.,   0.,   0.,   0.,   0.,   0.],\n",
              "       [  0.,   0.,   0.,   0.,   0.,   0.,   0.,  18., 219., 253., 253.,\n",
              "        253., 253., 253., 198., 182., 247., 241.,   0.,   0.,   0.,   0.,\n",
              "          0.,   0.,   0.,   0.,   0.,   0.],\n",
              "       [  0.,   0.,   0.,   0.,   0.,   0.,   0.,   0.,  80., 156., 107.,\n",
              "        253., 253., 205.,  11.,   0.,  43., 154.,   0.,   0.,   0.,   0.,\n",
              "          0.,   0.,   0.,   0.,   0.,   0.],\n",
              "       [  0.,   0.,   0.,   0.,   0.,   0.,   0.,   0.,   0.,  14.,   1.,\n",
              "        154., 253.,  90.,   0.,   0.,   0.,   0.,   0.,   0.,   0.,   0.,\n",
              "          0.,   0.,   0.,   0.,   0.,   0.],\n",
              "       [  0.,   0.,   0.,   0.,   0.,   0.,   0.,   0.,   0.,   0.,   0.,\n",
              "        139., 253., 190.,   2.,   0.,   0.,   0.,   0.,   0.,   0.,   0.,\n",
              "          0.,   0.,   0.,   0.,   0.,   0.],\n",
              "       [  0.,   0.,   0.,   0.,   0.,   0.,   0.,   0.,   0.,   0.,   0.,\n",
              "         11., 190., 253.,  70.,   0.,   0.,   0.,   0.,   0.,   0.,   0.,\n",
              "          0.,   0.,   0.,   0.,   0.,   0.],\n",
              "       [  0.,   0.,   0.,   0.,   0.,   0.,   0.,   0.,   0.,   0.,   0.,\n",
              "          0.,  35., 241., 225., 160., 108.,   1.,   0.,   0.,   0.,   0.,\n",
              "          0.,   0.,   0.,   0.,   0.,   0.],\n",
              "       [  0.,   0.,   0.,   0.,   0.,   0.,   0.,   0.,   0.,   0.,   0.,\n",
              "          0.,   0.,  81., 240., 253., 253., 119.,  25.,   0.,   0.,   0.,\n",
              "          0.,   0.,   0.,   0.,   0.,   0.],\n",
              "       [  0.,   0.,   0.,   0.,   0.,   0.,   0.,   0.,   0.,   0.,   0.,\n",
              "          0.,   0.,   0.,  45., 186., 253., 253., 150.,  27.,   0.,   0.,\n",
              "          0.,   0.,   0.,   0.,   0.,   0.],\n",
              "       [  0.,   0.,   0.,   0.,   0.,   0.,   0.,   0.,   0.,   0.,   0.,\n",
              "          0.,   0.,   0.,   0.,  16.,  93., 252., 253., 187.,   0.,   0.,\n",
              "          0.,   0.,   0.,   0.,   0.,   0.],\n",
              "       [  0.,   0.,   0.,   0.,   0.,   0.,   0.,   0.,   0.,   0.,   0.,\n",
              "          0.,   0.,   0.,   0.,   0.,   0., 249., 253., 249.,  64.,   0.,\n",
              "          0.,   0.,   0.,   0.,   0.,   0.],\n",
              "       [  0.,   0.,   0.,   0.,   0.,   0.,   0.,   0.,   0.,   0.,   0.,\n",
              "          0.,   0.,   0.,  46., 130., 183., 253., 253., 207.,   2.,   0.,\n",
              "          0.,   0.,   0.,   0.,   0.,   0.],\n",
              "       [  0.,   0.,   0.,   0.,   0.,   0.,   0.,   0.,   0.,   0.,   0.,\n",
              "          0.,  39., 148., 229., 253., 253., 253., 250., 182.,   0.,   0.,\n",
              "          0.,   0.,   0.,   0.,   0.,   0.],\n",
              "       [  0.,   0.,   0.,   0.,   0.,   0.,   0.,   0.,   0.,   0.,  24.,\n",
              "        114., 221., 253., 253., 253., 253., 201.,  78.,   0.,   0.,   0.,\n",
              "          0.,   0.,   0.,   0.,   0.,   0.],\n",
              "       [  0.,   0.,   0.,   0.,   0.,   0.,   0.,   0.,  23.,  66., 213.,\n",
              "        253., 253., 253., 253., 198.,  81.,   2.,   0.,   0.,   0.,   0.,\n",
              "          0.,   0.,   0.,   0.,   0.,   0.],\n",
              "       [  0.,   0.,   0.,   0.,   0.,   0.,  18., 171., 219., 253., 253.,\n",
              "        253., 253., 195.,  80.,   9.,   0.,   0.,   0.,   0.,   0.,   0.,\n",
              "          0.,   0.,   0.,   0.,   0.,   0.],\n",
              "       [  0.,   0.,   0.,   0.,  55., 172., 226., 253., 253., 253., 253.,\n",
              "        244., 133.,  11.,   0.,   0.,   0.,   0.,   0.,   0.,   0.,   0.,\n",
              "          0.,   0.,   0.,   0.,   0.,   0.],\n",
              "       [  0.,   0.,   0.,   0., 136., 253., 253., 253., 212., 135., 132.,\n",
              "         16.,   0.,   0.,   0.,   0.,   0.,   0.,   0.,   0.,   0.,   0.,\n",
              "          0.,   0.,   0.,   0.,   0.,   0.],\n",
              "       [  0.,   0.,   0.,   0.,   0.,   0.,   0.,   0.,   0.,   0.,   0.,\n",
              "          0.,   0.,   0.,   0.,   0.,   0.,   0.,   0.,   0.,   0.,   0.,\n",
              "          0.,   0.,   0.,   0.,   0.,   0.],\n",
              "       [  0.,   0.,   0.,   0.,   0.,   0.,   0.,   0.,   0.,   0.,   0.,\n",
              "          0.,   0.,   0.,   0.,   0.,   0.,   0.,   0.,   0.,   0.,   0.,\n",
              "          0.,   0.,   0.,   0.,   0.,   0.],\n",
              "       [  0.,   0.,   0.,   0.,   0.,   0.,   0.,   0.,   0.,   0.,   0.,\n",
              "          0.,   0.,   0.,   0.,   0.,   0.,   0.,   0.,   0.,   0.,   0.,\n",
              "          0.,   0.,   0.,   0.,   0.,   0.]])"
            ]
          },
          "metadata": {},
          "execution_count": 10
        }
      ]
    },
    {
      "cell_type": "code",
      "execution_count": null,
      "metadata": {
        "colab": {
          "base_uri": "https://localhost:8080/"
        },
        "id": "5Vhulb5PLLBc",
        "outputId": "3233d1d6-e4bd-4ba3-afb3-697da83fae06"
      },
      "outputs": [
        {
          "output_type": "execute_result",
          "data": {
            "text/plain": [
              "array(['5', '0', '4', ..., '4', '5', '6'], dtype=object)"
            ]
          },
          "metadata": {},
          "execution_count": 11
        }
      ],
      "source": [
        "y"
      ]
    },
    {
      "cell_type": "code",
      "execution_count": null,
      "metadata": {
        "colab": {
          "base_uri": "https://localhost:8080/"
        },
        "id": "HjW0URCpLLBc",
        "outputId": "2a73bf83-441c-469e-faeb-af10c76d062a"
      },
      "outputs": [
        {
          "output_type": "execute_result",
          "data": {
            "text/plain": [
              "(70000,)"
            ]
          },
          "metadata": {},
          "execution_count": 12
        }
      ],
      "source": [
        "y.shape"
      ]
    },
    {
      "cell_type": "code",
      "execution_count": null,
      "metadata": {
        "colab": {
          "base_uri": "https://localhost:8080/"
        },
        "id": "hQ7FzOkFLLBc",
        "outputId": "a38674d6-14b2-4be2-9125-f5fe98e50245"
      },
      "outputs": [
        {
          "output_type": "execute_result",
          "data": {
            "text/plain": [
              "array([5, 0, 4, ..., 4, 5, 6], dtype=int8)"
            ]
          },
          "metadata": {},
          "execution_count": 13
        }
      ],
      "source": [
        "y = y.astype('int8')\n",
        "y"
      ]
    },
    {
      "cell_type": "markdown",
      "metadata": {
        "id": "cS5wjfZRFKRS"
      },
      "source": [
        "### Let's draw the images:\n",
        "### Посмотрим на некоторые изображения:"
      ]
    },
    {
      "cell_type": "code",
      "execution_count": null,
      "metadata": {
        "colab": {
          "base_uri": "https://localhost:8080/",
          "height": 265
        },
        "id": "5ow91dAELLBd",
        "outputId": "e9c8a4b0-0b1d-433b-9012-57907bb7028c"
      },
      "outputs": [
        {
          "output_type": "display_data",
          "data": {
            "text/plain": [
              "<Figure size 432x288 with 1 Axes>"
            ],
            "image/png": "[encoded data removed]"
          },
          "metadata": {
            "needs_background": "light"
          }
        }
      ],
      "source": [
        "plt.imshow(X0.reshape((28, 28)))\n",
        "plt.set_cmap('binary')"
      ]
    },
    {
      "cell_type": "code",
      "execution_count": null,
      "metadata": {
        "id": "oyzZvbuMFKRS"
      },
      "outputs": [],
      "source": [
        "def draw_digit(Img, digit_true, digit_pred = ''):\n",
        "    plt.xticks([])\n",
        "    plt.yticks([])\n",
        "    plt.imshow(Img.reshape((28, 28)))\n",
        "    plt.text(0, 27, str(digit_true), color = 'b')\n",
        "    plt.text(0, 1, str(digit_pred), color = 'r')\n",
        "    plt.set_cmap('binary')    \n",
        "    #plt.set_cmap('gray')    "
      ]
    },
    {
      "cell_type": "code",
      "execution_count": null,
      "metadata": {
        "colab": {
          "base_uri": "https://localhost:8080/",
          "height": 252
        },
        "id": "G9Y2FOB3LLBe",
        "outputId": "ecc85819-873d-44f0-9d92-f376acf3cceb"
      },
      "outputs": [
        {
          "output_type": "display_data",
          "data": {
            "text/plain": [
              "<Figure size 432x288 with 1 Axes>"
            ],
            "image/png": "[encoded data removed]"
          },
          "metadata": {}
        }
      ],
      "source": [
        "draw_digit(X[0, ], y[0], '7')"
      ]
    },
    {
      "cell_type": "code",
      "execution_count": null,
      "metadata": {
        "colab": {
          "base_uri": "https://localhost:8080/",
          "height": 571
        },
        "id": "5tUgGQvuFKRZ",
        "outputId": "81c592cf-093f-4b6e-b344-fa6b1b2359e6"
      },
      "outputs": [
        {
          "output_type": "display_data",
          "data": {
            "text/plain": [
              "<Figure size 1080x720 with 60 Axes>"
            ],
            "image/png": "[encoded data removed]"
          },
          "metadata": {}
        }
      ],
      "source": [
        "plt.figure(figsize = (15, 10))\n",
        "for i_subplot in range(60):\n",
        "    plt.subplot(6, 10, i_subplot + 1)\n",
        "    draw_digit(X[i_subplot, :], y[i_subplot])"
      ]
    },
    {
      "cell_type": "markdown",
      "metadata": {
        "id": "65lgypslFKRb"
      },
      "source": [
        "### Split the dataset onto a train set and a test set\n",
        "\n",
        "### Разбиваем данные на обучающую и тестовую выборки\n"
      ]
    },
    {
      "cell_type": "code",
      "execution_count": null,
      "metadata": {
        "id": "qikty42dFKRc"
      },
      "outputs": [],
      "source": [
        "N_test = 10000\n",
        "N_train = N - N_test"
      ]
    },
    {
      "cell_type": "code",
      "execution_count": null,
      "metadata": {
        "colab": {
          "base_uri": "https://localhost:8080/"
        },
        "id": "PXfHLVfjLLBf",
        "outputId": "7c859247-074c-429a-c2e7-88e0e7a13fcf"
      },
      "outputs": [
        {
          "output_type": "execute_result",
          "data": {
            "text/plain": [
              "(10000, 60000)"
            ]
          },
          "metadata": {},
          "execution_count": 19
        }
      ],
      "source": [
        "N_test, N_train"
      ]
    },
    {
      "cell_type": "markdown",
      "metadata": {
        "id": "jGuvI1bYFKRf"
      },
      "source": [
        "Some methods require a lot of time to train. We'll use only a part of the dataset\n",
        "\n",
        "Некоторые методы требуют для обучения много времени. Чтобы долго не ждать, возьмем не все данные, а только часть:"
      ]
    },
    {
      "cell_type": "code",
      "execution_count": null,
      "metadata": {
        "id": "b0CORqY-FKRg"
      },
      "outputs": [],
      "source": [
        "N_train = 6000\n",
        "N_test = 1000"
      ]
    },
    {
      "cell_type": "code",
      "execution_count": null,
      "metadata": {
        "id": "XXz1fd4ZFKRi"
      },
      "outputs": [],
      "source": [
        "from sklearn.model_selection import train_test_split\n",
        "X_train, X_test, y_train, y_test = train_test_split(X, y, \n",
        "                                                    train_size = N_train, test_size = N_test, \n",
        "                                                    stratify = y, random_state = 42)"
      ]
    },
    {
      "cell_type": "code",
      "execution_count": null,
      "metadata": {
        "colab": {
          "base_uri": "https://localhost:8080/"
        },
        "id": "Gec0_otsFKRl",
        "outputId": "5bb1b2b4-5fd5-4b8f-f228-24f1907ae42f"
      },
      "outputs": [
        {
          "output_type": "execute_result",
          "data": {
            "text/plain": [
              "((6000, 784), (1000, 784))"
            ]
          },
          "metadata": {},
          "execution_count": 22
        }
      ],
      "source": [
        "X_train.shape, X_test.shape"
      ]
    },
    {
      "cell_type": "markdown",
      "metadata": {
        "id": "W_0EST1XFKRo"
      },
      "source": [
        "### Let's train the (kNN) k-Nearest Neighbourhood model\n",
        "### Обучаем классификатор ближайших соседей kNN\n",
        "\n",
        "*Евклидово расстояние* ($\\ell_2$-метрика):\n",
        "$$\n",
        "\\rho_2(x,x') = \\sqrt{\\sum_{j=1}^d (x_j - x_j')^2}\n",
        "$$\n",
        "\n",
        "*Манхеттеновское расстояние* ($\\ell_1$-метрика):\n",
        "$$\n",
        "\\rho_1(x,x') = \\sum_{j=1}^d |x_j - x_j'|\n",
        "$$\n",
        "\n",
        "\n",
        "*Чебышевское расстояние* ($\\ell_{\\infty}$-метрика):\n",
        "$$\n",
        "\\rho_{\\infty}(x,x') = \\max_{j=1,\\dots,d} |x_j - x_j'|\n",
        "$$\n",
        "\n",
        "Приведенные выше метрики являются частным случаем *расстояния Минковского*:\n",
        "$$\n",
        "\\rho_p(x,x') = \\left(\\sum_{j=1}^d |x_j - x_j'|^p\\right)^{1/p} \\qquad (p\\ge 1)\n",
        "$$\n"
      ]
    },
    {
      "cell_type": "code",
      "execution_count": null,
      "metadata": {
        "colab": {
          "base_uri": "https://localhost:8080/"
        },
        "id": "C3RCW0ffFKRo",
        "outputId": "eb5d2c42-a9d7-4d04-ace4-f57b2e900e05"
      },
      "outputs": [
        {
          "output_type": "execute_result",
          "data": {
            "text/plain": [
              "KNeighborsClassifier(n_neighbors=7, p=1)"
            ]
          },
          "metadata": {},
          "execution_count": 61
        }
      ],
      "source": [
        "from sklearn.neighbors import KNeighborsClassifier\n",
        "model = KNeighborsClassifier(n_neighbors=7, p=1)\n",
        "model.fit(X_train, y_train)"
      ]
    },
    {
      "cell_type": "markdown",
      "metadata": {
        "id": "dARVMb93FKRr"
      },
      "source": [
        "### Now we can classify using the model\n",
        "\n",
        "### Теперь можем классифицировать:"
      ]
    },
    {
      "cell_type": "code",
      "execution_count": null,
      "metadata": {
        "colab": {
          "base_uri": "https://localhost:8080/"
        },
        "id": "RzYRbwFsFKRt",
        "outputId": "4b5e308a-570d-41e1-c90f-d5e27a64ed9b"
      },
      "outputs": [
        {
          "output_type": "execute_result",
          "data": {
            "text/plain": [
              "array([1, 5], dtype=int8)"
            ]
          },
          "metadata": {},
          "execution_count": 62
        }
      ],
      "source": [
        "model.predict([X_test[0,], X_test[5,]])"
      ]
    },
    {
      "cell_type": "code",
      "execution_count": null,
      "metadata": {
        "colab": {
          "base_uri": "https://localhost:8080/",
          "height": 252
        },
        "id": "XSvwSxkYFKRw",
        "outputId": "0d2fd4df-4f77-4590-da87-55dc7a24ecd4"
      },
      "outputs": [
        {
          "output_type": "display_data",
          "data": {
            "text/plain": [
              "<Figure size 432x288 with 1 Axes>"
            ],
            "image/png": "[encoded data removed]"
          },
          "metadata": {}
        }
      ],
      "source": [
        "No = 0\n",
        "Img = X_test[No, ]\n",
        "dig = y_test[No]\n",
        "dig_pred = model.predict([Img])[0]\n",
        "draw_digit(Img, dig, dig_pred)"
      ]
    },
    {
      "cell_type": "code",
      "execution_count": null,
      "metadata": {
        "colab": {
          "base_uri": "https://localhost:8080/",
          "height": 252
        },
        "id": "HOU0eonkLLBh",
        "outputId": "86606288-d8fd-4a62-d913-282307ed9bf2"
      },
      "outputs": [
        {
          "output_type": "display_data",
          "data": {
            "text/plain": [
              "<Figure size 432x288 with 1 Axes>"
            ],
            "image/png": "[encoded data removed]"
          },
          "metadata": {}
        }
      ],
      "source": [
        "No = 42\n",
        "Img = X_train[No, ]\n",
        "dig = y_train[No]\n",
        "dig_pred = model.predict([Img])[0]\n",
        "draw_digit(Img, dig, dig_pred)"
      ]
    },
    {
      "cell_type": "markdown",
      "metadata": {
        "id": "jdWiGzaHFKRy"
      },
      "source": [
        "### Check the quality of the model\n",
        "\n",
        "### Проверяем качество классификатора"
      ]
    },
    {
      "cell_type": "code",
      "execution_count": null,
      "metadata": {
        "id": "kbhfQfwjFKRz"
      },
      "outputs": [],
      "source": [
        "y_train_pred = model.predict(X_train)\n",
        "y_test_pred = model.predict(X_test)"
      ]
    },
    {
      "cell_type": "code",
      "execution_count": null,
      "metadata": {
        "colab": {
          "base_uri": "https://localhost:8080/"
        },
        "id": "dKV6T8WrLLBi",
        "outputId": "8317c80d-8768-45dd-fc13-686ce2364e16"
      },
      "outputs": [
        {
          "output_type": "execute_result",
          "data": {
            "text/plain": [
              "array([False, False,  True, ...,  True,  True, False])"
            ]
          },
          "metadata": {},
          "execution_count": 66
        }
      ],
      "source": [
        "y_train != y_train_pred"
      ]
    },
    {
      "cell_type": "code",
      "execution_count": null,
      "metadata": {
        "colab": {
          "base_uri": "https://localhost:8080/"
        },
        "id": "taC0k0IOLLBi",
        "outputId": "4247c8c8-e5c1-4c35-e8fc-3155875faf44"
      },
      "outputs": [
        {
          "output_type": "execute_result",
          "data": {
            "text/plain": [
              "array([ True, False, False, False, False, False, False, False, False,\n",
              "        True, False, False, False, False, False, False, False, False,\n",
              "       False, False, False, False, False, False, False, False, False,\n",
              "       False, False, False, False, False, False, False, False, False,\n",
              "        True, False, False, False, False, False, False, False, False,\n",
              "       False, False, False, False, False, False, False, False, False,\n",
              "        True, False, False, False, False, False, False, False, False,\n",
              "       False,  True, False, False, False, False, False, False, False,\n",
              "       False, False, False, False, False, False, False, False, False,\n",
              "       False, False, False, False, False, False, False, False, False,\n",
              "       False,  True, False, False, False, False,  True, False, False,\n",
              "       False, False, False, False, False, False, False, False,  True,\n",
              "       False, False, False, False, False, False, False, False, False,\n",
              "       False, False, False, False, False, False, False, False, False,\n",
              "       False, False, False, False, False, False, False,  True, False,\n",
              "       False, False, False, False, False, False,  True, False, False,\n",
              "        True, False, False, False, False, False, False, False, False,\n",
              "       False, False, False, False, False, False, False, False, False,\n",
              "       False, False, False, False, False, False, False, False, False,\n",
              "       False, False, False, False, False, False, False, False, False,\n",
              "       False, False,  True, False, False, False, False, False, False,\n",
              "       False, False, False, False, False, False, False, False, False,\n",
              "       False, False, False,  True, False, False, False, False, False,\n",
              "       False, False, False, False,  True, False, False, False, False,\n",
              "       False, False, False, False,  True, False, False, False, False,\n",
              "       False, False, False, False, False, False, False,  True, False,\n",
              "        True,  True, False, False, False, False, False, False, False,\n",
              "       False, False, False,  True,  True,  True, False, False, False,\n",
              "       False, False, False, False, False, False, False, False, False,\n",
              "       False, False,  True, False, False, False, False, False, False,\n",
              "       False,  True, False, False, False, False, False, False, False,\n",
              "       False, False, False, False,  True, False, False, False, False,\n",
              "       False, False, False, False, False, False, False,  True, False,\n",
              "       False, False, False, False, False, False, False, False,  True,\n",
              "       False,  True, False, False, False, False, False, False, False,\n",
              "       False, False,  True, False, False, False, False, False, False,\n",
              "       False, False, False, False, False, False, False, False, False,\n",
              "       False, False, False,  True, False, False,  True, False, False,\n",
              "       False, False, False, False, False, False, False, False, False,\n",
              "       False, False, False, False,  True, False, False, False, False,\n",
              "       False, False, False, False,  True, False, False, False, False,\n",
              "       False, False, False, False, False, False, False, False, False,\n",
              "       False, False, False, False, False, False,  True, False, False,\n",
              "       False, False, False, False, False, False, False,  True, False,\n",
              "       False, False, False,  True, False, False, False, False, False,\n",
              "       False, False, False, False, False, False, False,  True, False,\n",
              "       False, False, False, False, False, False, False, False, False,\n",
              "       False,  True, False, False, False, False, False, False,  True,\n",
              "       False, False, False, False,  True, False, False, False, False,\n",
              "       False, False, False, False, False, False, False, False, False,\n",
              "       False, False, False, False, False, False, False,  True, False,\n",
              "       False, False, False, False, False, False, False, False,  True,\n",
              "        True, False, False, False,  True,  True, False, False, False,\n",
              "       False, False, False, False, False, False, False, False, False,\n",
              "       False, False, False, False, False, False, False, False, False,\n",
              "       False, False, False, False, False, False, False, False, False,\n",
              "       False, False, False, False, False, False, False, False, False,\n",
              "       False, False, False, False, False, False, False, False, False,\n",
              "       False, False, False, False,  True, False, False, False, False,\n",
              "       False, False, False, False, False, False, False, False, False,\n",
              "       False, False, False, False, False, False, False, False,  True,\n",
              "       False, False, False, False, False, False, False, False, False,\n",
              "       False, False, False, False, False, False, False, False, False,\n",
              "       False,  True, False, False, False, False, False, False, False,\n",
              "       False, False, False, False, False, False, False,  True, False,\n",
              "       False, False,  True, False, False, False, False, False, False,\n",
              "       False, False, False, False, False, False, False,  True, False,\n",
              "       False, False, False, False, False, False, False, False, False,\n",
              "       False, False, False, False, False, False, False, False, False,\n",
              "       False, False,  True, False, False, False, False, False, False,\n",
              "       False, False, False, False, False,  True, False,  True, False,\n",
              "       False, False, False, False, False,  True,  True, False, False,\n",
              "       False, False, False, False, False, False, False, False, False,\n",
              "       False, False, False, False, False,  True, False, False, False,\n",
              "       False, False, False, False, False, False, False, False, False,\n",
              "       False, False, False, False, False, False, False, False, False,\n",
              "       False, False, False, False, False, False,  True, False,  True,\n",
              "       False, False, False, False, False, False, False, False, False,\n",
              "       False, False, False, False, False, False, False, False, False,\n",
              "       False, False, False, False, False, False, False, False, False,\n",
              "       False, False, False, False, False, False, False, False, False,\n",
              "       False, False,  True, False, False, False, False, False, False,\n",
              "       False, False, False, False, False, False, False, False, False,\n",
              "       False, False,  True, False, False, False, False, False, False,\n",
              "       False, False, False, False, False,  True, False, False, False,\n",
              "       False, False, False, False, False, False, False, False, False,\n",
              "       False, False, False, False, False, False, False, False,  True,\n",
              "       False, False, False,  True, False, False, False, False, False,\n",
              "       False, False, False, False, False, False, False, False, False,\n",
              "       False, False, False, False, False, False, False, False, False,\n",
              "       False, False, False, False, False, False, False, False, False,\n",
              "       False, False, False, False, False, False, False, False, False,\n",
              "       False, False, False, False, False, False, False, False, False,\n",
              "       False, False, False, False, False, False, False, False, False,\n",
              "       False, False, False, False,  True, False, False, False, False,\n",
              "       False, False, False, False, False, False,  True, False, False,\n",
              "       False, False, False, False, False,  True, False, False, False,\n",
              "       False, False, False, False, False, False, False, False, False,\n",
              "       False, False, False, False, False, False,  True, False, False,\n",
              "       False, False, False, False, False, False, False, False, False,\n",
              "       False, False, False, False, False, False,  True, False, False,\n",
              "        True, False, False, False, False, False, False, False, False,\n",
              "       False, False, False, False, False, False, False, False, False,\n",
              "       False, False, False, False, False, False, False, False, False,\n",
              "       False, False, False, False, False, False, False, False, False,\n",
              "       False, False, False, False,  True, False, False, False, False,\n",
              "       False, False, False, False, False, False, False, False, False,\n",
              "       False, False, False, False, False, False, False, False, False,\n",
              "       False, False, False, False, False, False, False, False, False,\n",
              "       False, False,  True,  True, False, False, False, False, False,\n",
              "       False, False, False, False, False, False, False, False, False,\n",
              "       False])"
            ]
          },
          "metadata": {},
          "execution_count": 67
        }
      ],
      "source": [
        "y_test != y_test_pred"
      ]
    },
    {
      "cell_type": "markdown",
      "metadata": {
        "id": "PKZC8DZ2FKR2"
      },
      "source": [
        "Errors for train and test datasets:\n",
        "\n",
        "Ошибки на обучающей и тестовой выборках:"
      ]
    },
    {
      "cell_type": "code",
      "source": [
        "np.array([1,2,3,4]).mean()"
      ],
      "metadata": {
        "colab": {
          "base_uri": "https://localhost:8080/"
        },
        "id": "W-WxOPGjUChL",
        "outputId": "7624f709-651b-4c0a-da46-ee8a0106aab4"
      },
      "execution_count": null,
      "outputs": [
        {
          "output_type": "execute_result",
          "data": {
            "text/plain": [
              "2.5"
            ]
          },
          "metadata": {},
          "execution_count": 68
        }
      ]
    },
    {
      "cell_type": "code",
      "execution_count": null,
      "metadata": {
        "colab": {
          "base_uri": "https://localhost:8080/"
        },
        "id": "WnwC5pZELLBi",
        "outputId": "a27f97b4-6a55-47ad-81f7-11898d3010a9"
      },
      "outputs": [
        {
          "output_type": "execute_result",
          "data": {
            "text/plain": [
              "2.5"
            ]
          },
          "metadata": {},
          "execution_count": 69
        }
      ],
      "source": [
        "np.mean(np.array([1,2,3,4]))"
      ]
    },
    {
      "cell_type": "code",
      "execution_count": null,
      "metadata": {
        "id": "ON7Y-72zFKR3",
        "colab": {
          "base_uri": "https://localhost:8080/"
        },
        "outputId": "cd74ccdc-01aa-4c77-efc8-ee9f443ae58f"
      },
      "outputs": [
        {
          "output_type": "execute_result",
          "data": {
            "text/plain": [
              "(0.05383333333333333, 0.072)"
            ]
          },
          "metadata": {},
          "execution_count": 70
        }
      ],
      "source": [
        "(y_train != y_train_pred).mean(), (y_test != y_test_pred).mean()"
      ]
    },
    {
      "cell_type": "markdown",
      "metadata": {
        "id": "aYmbji53FKR5"
      },
      "source": [
        "We can do the same by the following way:\n",
        "\n",
        "Можно так:\n",
        "\n",
        "Calculate the accuracy:"
      ]
    },
    {
      "cell_type": "code",
      "execution_count": null,
      "metadata": {
        "id": "x6cT-KSCFKR5",
        "colab": {
          "base_uri": "https://localhost:8080/"
        },
        "outputId": "658ecb2f-f95b-4ede-91f3-f4fbaec06808"
      },
      "outputs": [
        {
          "output_type": "execute_result",
          "data": {
            "text/plain": [
              "(0.9461666666666667, 0.928)"
            ]
          },
          "metadata": {},
          "execution_count": 71
        }
      ],
      "source": [
        "model.score(X_train, y_train), model.score(X_test, y_test)"
      ]
    },
    {
      "cell_type": "markdown",
      "metadata": {
        "id": "Is2Eo3joLLBj"
      },
      "source": [
        "Compute the error:"
      ]
    },
    {
      "cell_type": "code",
      "execution_count": null,
      "metadata": {
        "id": "s2J67o1QFKR9",
        "colab": {
          "base_uri": "https://localhost:8080/"
        },
        "outputId": "673f7f54-3647-4328-b8f2-e37c46cce8de"
      },
      "outputs": [
        {
          "output_type": "execute_result",
          "data": {
            "text/plain": [
              "0.07199999999999995"
            ]
          },
          "metadata": {},
          "execution_count": 72
        }
      ],
      "source": [
        "1 - model.score(X_test, y_test)"
      ]
    },
    {
      "cell_type": "markdown",
      "metadata": {
        "id": "tvLauAh3FKSA"
      },
      "source": [
        "### Confusion matrix\n",
        "\n",
        "### Матрица рассогласования:"
      ]
    },
    {
      "cell_type": "code",
      "execution_count": null,
      "metadata": {
        "id": "IicWFp3mFKSB",
        "outputId": "2aaa9600-2906-4fb0-e033-f54be115b4e8",
        "colab": {
          "base_uri": "https://localhost:8080/"
        }
      },
      "outputs": [
        {
          "output_type": "execute_result",
          "data": {
            "text/plain": [
              "array([[ 97,   0,   0,   0,   0,   0,   2,   0,   0,   0],\n",
              "       [  0, 112,   0,   0,   0,   0,   0,   0,   0,   1],\n",
              "       [  0,   9,  85,   0,   0,   1,   0,   3,   0,   2],\n",
              "       [  0,   1,   3,  95,   0,   1,   0,   0,   1,   1],\n",
              "       [  0,   2,   0,   0,  91,   0,   1,   0,   0,   3],\n",
              "       [  2,   2,   0,   0,   0,  83,   3,   0,   0,   0],\n",
              "       [  1,   3,   0,   0,   0,   0,  94,   0,   0,   0],\n",
              "       [  0,   1,   0,   0,   0,   0,   0, 100,   0,   3],\n",
              "       [  1,   4,   0,   3,   1,   2,   1,   2,  82,   2],\n",
              "       [  1,   2,   0,   0,   5,   0,   0,   2,   0,  89]])"
            ]
          },
          "metadata": {},
          "execution_count": 73
        }
      ],
      "source": [
        "from sklearn.metrics import confusion_matrix\n",
        "confusion_matrix(y_test, y_test_pred)"
      ]
    },
    {
      "cell_type": "code",
      "execution_count": null,
      "metadata": {
        "id": "qeyZ5q-XFKSE",
        "outputId": "3f5f80d1-6092-4007-b48e-91943089dcb5",
        "colab": {
          "base_uri": "https://localhost:8080/",
          "height": 334
        }
      },
      "outputs": [
        {
          "output_type": "stream",
          "name": "stderr",
          "text": [
            "/usr/local/lib/python3.7/dist-packages/sklearn/utils/deprecation.py:87: FutureWarning: Function plot_confusion_matrix is deprecated; Function `plot_confusion_matrix` is deprecated in 1.0 and will be removed in 1.2. Use one of the class methods: ConfusionMatrixDisplay.from_predictions or ConfusionMatrixDisplay.from_estimator.\n",
            "  warnings.warn(msg, category=FutureWarning)\n"
          ]
        },
        {
          "output_type": "display_data",
          "data": {
            "text/plain": [
              "<Figure size 432x288 with 2 Axes>"
            ],
            "image/png": "[encoded data removed]"
          },
          "metadata": {
            "needs_background": "light"
          }
        }
      ],
      "source": [
        "from sklearn.metrics import plot_confusion_matrix\n",
        "plot_confusion_matrix(model, X_test, y_test, cmap=plt.cm.Blues)\n",
        "pass"
      ]
    },
    {
      "cell_type": "markdown",
      "metadata": {
        "id": "YUVGRUwQFKSH"
      },
      "source": [
        "### Other quality metrics:\n",
        "\n",
        "### Другие метрики качества:"
      ]
    },
    {
      "cell_type": "code",
      "execution_count": null,
      "metadata": {
        "id": "qu8bOoPOFKSI",
        "outputId": "5f3919ba-3fb6-4fbc-c69c-98a65babbaa0",
        "colab": {
          "base_uri": "https://localhost:8080/"
        }
      },
      "outputs": [
        {
          "output_type": "stream",
          "name": "stdout",
          "text": [
            "              precision    recall  f1-score   support\n",
            "\n",
            "           0       0.95      0.98      0.97        99\n",
            "           1       0.82      0.99      0.90       113\n",
            "           2       0.97      0.85      0.90       100\n",
            "           3       0.97      0.93      0.95       102\n",
            "           4       0.94      0.94      0.94        97\n",
            "           5       0.95      0.92      0.94        90\n",
            "           6       0.93      0.96      0.94        98\n",
            "           7       0.93      0.96      0.95       104\n",
            "           8       0.99      0.84      0.91        98\n",
            "           9       0.88      0.90      0.89        99\n",
            "\n",
            "    accuracy                           0.93      1000\n",
            "   macro avg       0.93      0.93      0.93      1000\n",
            "weighted avg       0.93      0.93      0.93      1000\n",
            "\n"
          ]
        }
      ],
      "source": [
        "from sklearn.metrics import classification_report\n",
        "print(classification_report(y_test, y_test_pred))"
      ]
    },
    {
      "cell_type": "markdown",
      "metadata": {
        "id": "5rwc33zbFKSK"
      },
      "source": [
        "Для бинарной классификации:\n",
        "\n",
        "$$\n",
        "\\begin{array}{c|c|c|}\n",
        "    &   f(x)=0 & f(x)=1 \\\\\n",
        "\\hline\n",
        "y=0 & {\\rm TN} & {\\rm FP} \\\\\n",
        "\\hline\n",
        "y=1 & {\\rm FN} & {\\rm TP} \\\\\n",
        "\\hline\n",
        "\\end{array}\n",
        "$$\n",
        "\n",
        "${\\rm TN}$ – true negative, истинно отрицательные примеры\n",
        "\n",
        "${\\rm TP}$ – true positive, истинно положительные примеры\n",
        "\n",
        "${\\rm FP}$ – false positive, ложно положительные примеры, _ложные тревоги_ (ошибки 1-го рода или $\\alpha$-ошибки)\n",
        "\n",
        "${\\rm FN}$ – false negative, ложно отрицательные примеры, _промахи_ (ошибки 2-го рода или $\\beta$-ошибки)\n",
        "\n",
        "${\\rm error} = \\frac{{\\rm FP} + {\\rm FN}}{{\\rm TP} + {\\rm TN} + {\\rm FP} + {\\rm FN}}$ \n",
        "\n",
        "${\\rm accuracy} = \\frac{{\\rm TP} + {\\rm TN}}{{\\rm TP} + {\\rm TN} + {\\rm FP} + {\\rm FN}} = 1 - {\\rm error}$ \n",
        "\n",
        "$\\alpha = {\\rm FPR} = \\frac{{\\rm FP}}{{\\rm TN}+{\\rm FP}}$ – ``вероятность'' ошибки 1-го рода (_уровень значимости_)\n",
        "\n",
        "$\\beta = {\\rm FNR} = \\frac{{\\rm FN}}{{\\rm FN}+{\\rm TP}}$ – ``вероятность'' ошибки 2-го рода\n",
        "\n",
        "${\\rm precision} = \\frac{{\\rm TP}}{{\\rm FP}+{\\rm TP}}$ – ``точность'' (не путать с accuracy) \n",
        "\n",
        "${\\rm recall} = {\\rm TPR} = \\frac{{\\rm TP}}{{\\rm FN}+{\\rm TP}} = 1 - {\\rm FNR}$ – _чувствительность_, полнота, отклик (вероятность предсказать отсутствие болезни, при условии, что ее нет)\n",
        "\n",
        "${\\rm TNR} = \\frac{{\\rm TN}}{{\\rm TN}+{\\rm FP}} = 1 - {\\rm FPR}$ – _специфичность_ (вероятность предсказать болезнь, при условии, что она есть)\n",
        "\n",
        "$F_1 = 2\\cdot\\frac{{\\rm precision}\\cdot{\\rm recall}}{{\\rm precision}+{\\rm recall}}$ – $F_1$-_мера_ (среднее гармоническое между *precision* и *recall*)\n",
        "\n",
        "$$\n",
        "F_1 = \\frac{1}{\\frac{\\frac{1}{\\rm precision} + \\frac{1}{\\rm recall}}{2}}\n",
        "$$\n",
        "\n",
        "\n",
        "\n"
      ]
    },
    {
      "cell_type": "markdown",
      "metadata": {
        "id": "qlX2yf-cLLBk"
      },
      "source": [
        "- FP is the number of _false positive_ samples (classified erroneously as positive sample)\n",
        "- FN is the number of _false negative_ samples (classified erroneously as negative sample)\n",
        "- TP is the number of _true positive_ samples (classified correctly as positive sample)\n",
        "- TN is the number of _true negativ_ samples (classified correctly as negative sample sample)"
      ]
    },
    {
      "cell_type": "markdown",
      "metadata": {
        "id": "wi6-FlaWFKSK"
      },
      "source": [
        "### All errors:\n",
        "\n",
        "### Все ошибки:"
      ]
    },
    {
      "cell_type": "code",
      "execution_count": null,
      "metadata": {
        "id": "OqX75p2UFKSL",
        "outputId": "251beb9b-a44a-484d-c3c2-532533cff67e",
        "colab": {
          "base_uri": "https://localhost:8080/",
          "height": 375
        }
      },
      "outputs": [
        {
          "output_type": "display_data",
          "data": {
            "text/plain": [
              "<Figure size 1440x720 with 72 Axes>"
            ],
            "image/png": "[encoded data removed]"
          },
          "metadata": {}
        }
      ],
      "source": [
        "plt.figure(figsize = (20, 10))\n",
        "i_subplot = 1 \n",
        "for i in range(N_test):\n",
        "    Img = X_test[i, :]\n",
        "    dig = y_test[i]\n",
        "    dig_pred = model.predict([Img])[0]\n",
        "    if dig_pred != dig:\n",
        "        plt.subplot(8, 16, i_subplot)\n",
        "        draw_digit(Img, dig, dig_pred)\n",
        "        i_subplot += 1"
      ]
    },
    {
      "cell_type": "markdown",
      "metadata": {
        "id": "OJXz5pIMFKSO"
      },
      "source": [
        "#### Machine Learning Methods in scikit-learn library\n",
        "\n",
        "В библиотеке scikit-learn реализована масса алгоритмов машинного обучения.\n",
        "\n",
        "#### Некоторые алгоритмы машинного обучения, реализованные в scikit-learn:\n",
        "\n",
        " Метод                                     |  Класс\n",
        "-------------------------------------------|--------------------------------------------         \n",
        " kNN – $k$ ближайших соседей               | `sklearn.neighbors.KNeighborsClassifier`\n",
        " LDA – линейный дискриминантный анализ     | `sklearn.discriminant_analysis.LinearDiscriminantAnalysis`\n",
        " QDA – квадратичный дискриминантный анализ | `sklearn.discriminant_analysis.QuadraticDiscriminantAnalysis`\n",
        " Logistic – логистическая регрессия        | `sklearn.linear_model.LogisticRegression`\n",
        " SVC – машина опорных векторов             | `sklearn.svm.SVC`\n",
        " Tree – деревья решений                    | `sklearn.tree.DecisionTreeClassifier`\n",
        " RF – случайный лес                        | `sklearn.ensemble.RandomForestClassifier`\n",
        " ExtrRF – экстремально случайный лес       | `sklearn.ensemble.ExtraTreesClassifier`\n",
        " AdaBoost – алгоритм AdaBoost              | `sklearn.ensemble.AdaBoostClassifier`\n",
        " GBT – градиентный бустинг деревьев решений| `sklearn.ensemble.GradientBoostingClassifier`\n",
        " Нейронные сети                            | `sklearn.neural_network.MLPClassifier`\n",
        " \n",
        "\n",
        "\n",
        "\n",
        "#### Основные методы классов, реализующих алгоритмы машинного обучения\n",
        "Все алгоритмы выполнены в виде классов, обладающих по крайней мере следующими методами:\n",
        "\n",
        "\n",
        "\n",
        "   Метод класса            |  Описание     \n",
        " --------------------------|-------------------------------------------------------------\n",
        "  `fit(X_train, y_train)`              |  обучение (тренировка) модели на обучающей выборке `X_train`, `y_train`\n",
        "  `predict(X)`             |  предсказание на данных `X`\n",
        "  `set_params(**params)`   |  установка параметров алгоритма\n",
        "  `get_params()`           |  чтение параметров алгоритма\n",
        " \n",
        " Заметим, что параметры алгоритмов обучения можно задавать как в конструкторе класса, так и с помощью метода `set_params(**params)`.\n",
        " \n",
        " #### Таблица наличия/отсутствия методов для основных алгоритмов машинного обучения:\n",
        " \n",
        "    \n",
        "   Методы класса               | kNN | LDA | QDA | Logistic | SVC | Tree | RF | AdaBoost | GBT     \n",
        " ------------------------------|-----|-----|-----|----------|-----|------|----|----------|------\n",
        "  `fit(X, y)`                  |  +  |  +  |  +  |    +     |  +  |  +   | +  |    +     |  +\n",
        "  `predict(X)`                 |  +  |  +  |  +  |    +     |  +  |  +   | +  |    +     |  +\n",
        "  `predict_proba(X)`           |  +  |  +  |  +  |    +     |     |  +   | +  |    +     |  +\n",
        "  `predict_log_proba(X)`       |     |  +  |  +  |    +     |     |  +   | +  |    +     |  +\n",
        "  `score(X, y)`                |  +  |  +  |  +  |    +     |  +  |  +   | +  |    +     |  +\n",
        "  `decision_function(X)`       |     |  +  |  +  |    +     |  +  |      |    |    +     |  +\n",
        "  `transform(X)`               |     |  +  |     |    +     |     |  +   | +  |          |  +\n",
        "  `staged_decision_function(X)`|     |     |     |          |     |      |    |    +     |  +    \n",
        "  `staged_predict(X)`          |     |     |     |          |     |      |    |    +     |  +\n",
        "  `staged_predict_proba(X)`    |     |     |     |          |     |      |    |    +     |  +\n",
        "  `staged_score(X, y)`         |     |     |     |          |     |      |    |    +     |  +\n",
        "  `set_params(**params)`       |  +  |  +  |  +  |    +     |  +  |  +   | +  |    +     |  +\n",
        "  `get_params()`               |  +  |  +  |  +  |    +     |  +  |  +   | +  |    +     |  +\n",
        "    \n",
        "    "
      ]
    },
    {
      "cell_type": "markdown",
      "metadata": {
        "id": "yWcE32z8FKSV"
      },
      "source": [
        "### Neural methods (MLP  - Multi Layer Perceptron)\n",
        "### Нейронные сети (MLP - Multi Layer Perceptron)"
      ]
    },
    {
      "cell_type": "code",
      "execution_count": null,
      "metadata": {
        "id": "lHUkDuxXFKSV",
        "outputId": "833c1fe9-a9f5-4e58-f1fb-5851a05e5ee4",
        "colab": {
          "base_uri": "https://localhost:8080/"
        }
      },
      "outputs": [
        {
          "output_type": "execute_result",
          "data": {
            "text/plain": [
              "MLPClassifier(hidden_layer_sizes=(30,), random_state=42)"
            ]
          },
          "metadata": {},
          "execution_count": 77
        }
      ],
      "source": [
        "from sklearn.neural_network import MLPClassifier\n",
        "model = MLPClassifier(hidden_layer_sizes = (30,), random_state = 42)\n",
        "model.fit(X_train, y_train)"
      ]
    },
    {
      "cell_type": "code",
      "execution_count": null,
      "metadata": {
        "id": "DfFVoJ1KFKSZ",
        "outputId": "01e11e88-da42-44a2-d0f9-0f253ef0f617",
        "colab": {
          "base_uri": "https://localhost:8080/"
        }
      },
      "outputs": [
        {
          "output_type": "execute_result",
          "data": {
            "text/plain": [
              "(0.034, 0.114)"
            ]
          },
          "metadata": {},
          "execution_count": 78
        }
      ],
      "source": [
        "y_train_pred = model.predict(X_train)\n",
        "y_test_pred = model.predict(X_test)\n",
        "np.mean(y_train != y_train_pred), np.mean(y_test != y_test_pred)"
      ]
    },
    {
      "cell_type": "code",
      "execution_count": null,
      "metadata": {
        "id": "0U6lNFc5FKSb",
        "outputId": "0a6ba145-f377-40d7-f3ba-036a7c1264fb",
        "colab": {
          "base_uri": "https://localhost:8080/"
        }
      },
      "outputs": [
        {
          "output_type": "execute_result",
          "data": {
            "text/plain": [
              "MLPClassifier(hidden_layer_sizes=(1000, 500), random_state=42)"
            ]
          },
          "metadata": {},
          "execution_count": 79
        }
      ],
      "source": [
        "model = MLPClassifier(hidden_layer_sizes = (1000, 500), random_state = 42)\n",
        "model.fit(X_train, y_train)"
      ]
    },
    {
      "cell_type": "code",
      "execution_count": null,
      "metadata": {
        "id": "JCEZRmqDFKSd",
        "outputId": "1d199085-46a6-402a-b424-0c52b6c31d90",
        "colab": {
          "base_uri": "https://localhost:8080/"
        }
      },
      "outputs": [
        {
          "output_type": "execute_result",
          "data": {
            "text/plain": [
              "(0.0, 0.071)"
            ]
          },
          "metadata": {},
          "execution_count": 80
        }
      ],
      "source": [
        "y_train_pred = model.predict(X_train)\n",
        "y_test_pred = model.predict(X_test)\n",
        "np.mean(y_train != y_train_pred), np.mean(y_test != y_test_pred)"
      ]
    },
    {
      "cell_type": "markdown",
      "metadata": {
        "id": "AKt1W61mFKSt"
      },
      "source": [
        "### Подбор *гипер*параметров\n",
        "\n",
        "### Choosing hyperpapameters\n",
        "\n",
        "Подберем _оптимальное_ значение параметра регуляризации `alpha`\n",
        "\n",
        "Let's try to find the optimal value for regularization parameter `alpha`\n",
        "\n",
        "(Можно вместо циклов, написанных руками, использовать `sklearn.model_selection.GridSearchCV` и т.п.)\n",
        "\n",
        "(Instead of using cycles you can use `sklearn.model_selection.GridSearchCV` etc.)"
      ]
    },
    {
      "cell_type": "code",
      "execution_count": null,
      "metadata": {
        "colab": {
          "base_uri": "https://localhost:8080/"
        },
        "id": "qCjQ0EoALLBm",
        "outputId": "74a5700b-4307-4ff2-b537-78e9daccd572"
      },
      "outputs": [
        {
          "output_type": "execute_result",
          "data": {
            "text/plain": [
              "array([ 0.,  2.,  4.,  6.,  8., 10.])"
            ]
          },
          "metadata": {},
          "execution_count": 43
        }
      ],
      "source": [
        "np.linspace(0, 10, 6)"
      ]
    },
    {
      "cell_type": "markdown",
      "metadata": {
        "id": "2nKqv6x4LLBm"
      },
      "source": [
        "`np.logspace(a, b, v)` gets `10**np.linspace(a, b, v)`"
      ]
    },
    {
      "cell_type": "code",
      "execution_count": null,
      "metadata": {
        "colab": {
          "base_uri": "https://localhost:8080/"
        },
        "id": "9RYw70ihLLBn",
        "outputId": "52c6889a-c948-40bd-9ea1-51853ed6e60b"
      },
      "outputs": [
        {
          "output_type": "execute_result",
          "data": {
            "text/plain": [
              "array([1.e+00, 1.e+02, 1.e+04, 1.e+06, 1.e+08, 1.e+10])"
            ]
          },
          "metadata": {},
          "execution_count": 44
        }
      ],
      "source": [
        "np.logspace(0, 10, 6)"
      ]
    },
    {
      "cell_type": "code",
      "execution_count": null,
      "metadata": {
        "colab": {
          "base_uri": "https://localhost:8080/"
        },
        "id": "MkNVY8MwLLBn",
        "outputId": "e660b1aa-2e25-4883-9312-4c9cd6d9ad84"
      },
      "outputs": [
        {
          "output_type": "execute_result",
          "data": {
            "text/plain": [
              "array([1.e+00, 1.e+02, 1.e+04, 1.e+06, 1.e+08, 1.e+10])"
            ]
          },
          "metadata": {},
          "execution_count": 45
        }
      ],
      "source": [
        "10**np.linspace(0, 10, 6)"
      ]
    },
    {
      "cell_type": "code",
      "execution_count": null,
      "metadata": {
        "colab": {
          "base_uri": "https://localhost:8080/"
        },
        "id": "HQA811ZSLLBn",
        "outputId": "6f61ce73-790d-4c70-e0e3-1003c5c6814d"
      },
      "outputs": [
        {
          "output_type": "execute_result",
          "data": {
            "text/plain": [
              "array([1.e-04, 1.e-03, 1.e-02, 1.e-01, 1.e+00, 1.e+01, 1.e+02, 1.e+03,\n",
              "       1.e+04, 1.e+05])"
            ]
          },
          "metadata": {},
          "execution_count": 46
        }
      ],
      "source": [
        "np.logspace(-4, 5, 10)"
      ]
    },
    {
      "cell_type": "code",
      "execution_count": null,
      "metadata": {
        "id": "QWVxq3mKFKSt",
        "colab": {
          "base_uri": "https://localhost:8080/"
        },
        "outputId": "05501309-1170-4a1d-9448-5019ffe5a3d0"
      },
      "outputs": [
        {
          "output_type": "stream",
          "name": "stderr",
          "text": [
            "/usr/local/lib/python3.7/dist-packages/sklearn/neural_network/_multilayer_perceptron.py:699: UserWarning: Training interrupted by user.\n",
            "  warnings.warn(\"Training interrupted by user.\")\n",
            "/usr/local/lib/python3.7/dist-packages/sklearn/neural_network/_multilayer_perceptron.py:699: UserWarning: Training interrupted by user.\n",
            "  warnings.warn(\"Training interrupted by user.\")\n",
            "/usr/local/lib/python3.7/dist-packages/sklearn/neural_network/_multilayer_perceptron.py:699: UserWarning: Training interrupted by user.\n",
            "  warnings.warn(\"Training interrupted by user.\")\n",
            "/usr/local/lib/python3.7/dist-packages/sklearn/neural_network/_multilayer_perceptron.py:699: UserWarning: Training interrupted by user.\n",
            "  warnings.warn(\"Training interrupted by user.\")\n"
          ]
        }
      ],
      "source": [
        "alpha_arr = np.logspace(-4, 5, 10)\n",
        "train_err = []\n",
        "test_err = []\n",
        "for alpha in alpha_arr:\n",
        "    mlp_model = MLPClassifier(hidden_layer_sizes = (30,), random_state = 42, alpha = alpha)\n",
        "    mlp_model.fit(X_train, y_train)\n",
        "\n",
        "    y_train_pred = mlp_model.predict(X_train)\n",
        "    y_test_pred = mlp_model.predict(X_test)\n",
        "    train_err.append(np.mean(y_train != y_train_pred))\n",
        "    test_err.append(np.mean(y_test != y_test_pred))"
      ]
    },
    {
      "cell_type": "code",
      "execution_count": null,
      "metadata": {
        "id": "GlINJG88FKSv",
        "outputId": "a794b7ef-7040-417b-8451-1f035200af5a",
        "colab": {
          "base_uri": "https://localhost:8080/",
          "height": 299
        }
      },
      "outputs": [
        {
          "output_type": "display_data",
          "data": {
            "text/plain": [
              "<Figure size 432x288 with 1 Axes>"
            ],
            "image/png": "[encoded data removed]"
          },
          "metadata": {
            "needs_background": "light"
          }
        }
      ],
      "source": [
        "plt.semilogx(alpha_arr, train_err, 'b-o', label = 'train')\n",
        "plt.semilogx(alpha_arr, test_err, 'r-o', label = 'test')\n",
        "#plt.xlim([np.max(alpha_arr), np.min(alpha_arr)])\n",
        "plt.title('Error vs. alpha')\n",
        "plt.xlabel('alpha')\n",
        "plt.ylabel('error')\n",
        "plt.legend()\n",
        "pass"
      ]
    },
    {
      "cell_type": "markdown",
      "metadata": {
        "id": "DDWdxbPWFKSx"
      },
      "source": [
        "Минимальное значение ошибки:\n",
        "Minimal errors:"
      ]
    },
    {
      "cell_type": "code",
      "execution_count": null,
      "metadata": {
        "id": "sk-Szo12FKSx",
        "outputId": "f615d1d7-7aa4-4648-e5da-e3bcecbb3da6",
        "colab": {
          "base_uri": "https://localhost:8080/"
        }
      },
      "outputs": [
        {
          "output_type": "stream",
          "name": "stdout",
          "text": [
            "0.0036666666666666666 0.072\n"
          ]
        }
      ],
      "source": [
        "min_train_err = np.min(train_err)\n",
        "min_test_err = np.min(test_err)\n",
        "print(min_train_err, min_test_err)"
      ]
    },
    {
      "cell_type": "markdown",
      "metadata": {
        "id": "eiROjTcJFKS0"
      },
      "source": [
        "Оптимальное значение `alpha`:\n",
        "\n",
        "OPtimal value for `alpha` (when the test error is minimal):"
      ]
    },
    {
      "cell_type": "code",
      "execution_count": null,
      "metadata": {
        "id": "83NEIHjcFKS1",
        "outputId": "19b93f24-0c4b-43ee-ff2c-3b18eae0c863",
        "colab": {
          "base_uri": "https://localhost:8080/"
        }
      },
      "outputs": [
        {
          "output_type": "stream",
          "name": "stdout",
          "text": [
            "[10.]\n"
          ]
        }
      ],
      "source": [
        "alpha_opt = alpha_arr[test_err == min_test_err]\n",
        "print(alpha_opt)"
      ]
    },
    {
      "cell_type": "code",
      "execution_count": null,
      "metadata": {
        "id": "o_sRvg6XFKS6"
      },
      "outputs": [],
      "source": [
        "alpha_opt = alpha_opt[0]"
      ]
    },
    {
      "cell_type": "markdown",
      "metadata": {
        "id": "3Khfd1EIFKS9"
      },
      "source": [
        "### Классификатор при найденном _оптимальном_ значении `alpha`:\n",
        "\n",
        "### Classifier for optimal value of `alpha`"
      ]
    },
    {
      "cell_type": "markdown",
      "metadata": {
        "id": "-W4GEYz2FKS9"
      },
      "source": [
        "Повторим обучение:\n",
        "\n",
        "Repeat the training"
      ]
    },
    {
      "cell_type": "code",
      "execution_count": null,
      "metadata": {
        "id": "Tc0_aeTaFKS-",
        "outputId": "3fcee7e8-9d85-4bdd-8958-83404c69d5b9",
        "colab": {
          "base_uri": "https://localhost:8080/"
        }
      },
      "outputs": [
        {
          "output_type": "stream",
          "name": "stdout",
          "text": [
            "0.0036666666666666666\n",
            "0.072\n"
          ]
        }
      ],
      "source": [
        "mlp_model = MLPClassifier(hidden_layer_sizes = (30,), random_state = 42, alpha = alpha_opt)\n",
        "mlp_model.fit(X_train, y_train)\n",
        "\n",
        "y_train_pred = mlp_model.predict(X_train)\n",
        "y_test_pred = mlp_model.predict(X_test)\n",
        "print(np.mean(y_train != y_train_pred))\n",
        "print(np.mean(y_test != y_test_pred))"
      ]
    },
    {
      "cell_type": "markdown",
      "metadata": {
        "id": "nTAPe6gpFKSf"
      },
      "source": [
        "### Support vector machine\n",
        "\n",
        "### Машина опорных векторов"
      ]
    },
    {
      "cell_type": "code",
      "execution_count": null,
      "metadata": {
        "id": "0m3TWLoVFKSg",
        "outputId": "304b7532-a2c1-4bf2-e94d-070f5ddd0ed4",
        "colab": {
          "base_uri": "https://localhost:8080/"
        }
      },
      "outputs": [
        {
          "output_type": "execute_result",
          "data": {
            "text/plain": [
              "SVC()"
            ]
          },
          "metadata": {},
          "execution_count": 53
        }
      ],
      "source": [
        "from sklearn.svm import SVC\n",
        "model = SVC()\n",
        "model.fit(X_train, y_train)"
      ]
    },
    {
      "cell_type": "code",
      "execution_count": null,
      "metadata": {
        "id": "OT1y4IkYFKSi",
        "outputId": "5a90ca94-6ce6-4e60-8c56-03f46baa78c1",
        "colab": {
          "base_uri": "https://localhost:8080/"
        }
      },
      "outputs": [
        {
          "output_type": "execute_result",
          "data": {
            "text/plain": [
              "(0.016833333333333332, 0.041)"
            ]
          },
          "metadata": {},
          "execution_count": 54
        }
      ],
      "source": [
        "y_train_pred = model.predict(X_train)\n",
        "y_test_pred = model.predict(X_test)\n",
        "np.mean(y_train != y_train_pred), np.mean(y_test != y_test_pred)"
      ]
    },
    {
      "cell_type": "code",
      "execution_count": null,
      "metadata": {
        "id": "GwvW-GicFKSl",
        "colab": {
          "base_uri": "https://localhost:8080/"
        },
        "outputId": "afd7fd28-70cf-472d-fa9c-dd3b6a4f73f1"
      },
      "outputs": [
        {
          "output_type": "execute_result",
          "data": {
            "text/plain": [
              "SVC(kernel='linear')"
            ]
          },
          "metadata": {},
          "execution_count": 55
        }
      ],
      "source": [
        "model = SVC(kernel = 'linear')\n",
        "model.fit(X_train, y_train)"
      ]
    },
    {
      "cell_type": "code",
      "execution_count": null,
      "metadata": {
        "id": "iqpkbWaJFKSn",
        "colab": {
          "base_uri": "https://localhost:8080/"
        },
        "outputId": "9e3f9c1a-94c5-4398-81dd-cc27345d1905"
      },
      "outputs": [
        {
          "output_type": "execute_result",
          "data": {
            "text/plain": [
              "(0.0, 0.089)"
            ]
          },
          "metadata": {},
          "execution_count": 56
        }
      ],
      "source": [
        "y_train_pred = model.predict(X_train)\n",
        "y_test_pred = model.predict(X_test)\n",
        "np.mean(y_train != y_train_pred), np.mean(y_test != y_test_pred)"
      ]
    },
    {
      "cell_type": "code",
      "execution_count": null,
      "metadata": {
        "id": "8dGMjcZUFKSp",
        "colab": {
          "base_uri": "https://localhost:8080/"
        },
        "outputId": "76063f73-0e16-4e5f-a754-73448f4ff10e"
      },
      "outputs": [
        {
          "output_type": "execute_result",
          "data": {
            "text/plain": [
              "SVC(kernel='poly')"
            ]
          },
          "metadata": {},
          "execution_count": 57
        }
      ],
      "source": [
        "model = SVC(kernel = 'poly')\n",
        "model.fit(X_train, y_train)"
      ]
    },
    {
      "cell_type": "code",
      "execution_count": null,
      "metadata": {
        "id": "mnF_I7p6FKSr",
        "colab": {
          "base_uri": "https://localhost:8080/"
        },
        "outputId": "c988bf41-4370-45d8-8e8f-b64752bdabc7"
      },
      "outputs": [
        {
          "output_type": "execute_result",
          "data": {
            "text/plain": [
              "(0.014666666666666666, 0.052)"
            ]
          },
          "metadata": {},
          "execution_count": 58
        }
      ],
      "source": [
        "y_train_pred = model.predict(X_train)\n",
        "y_test_pred = model.predict(X_test)\n",
        "np.mean(y_train != y_train_pred), np.mean(y_test != y_test_pred)"
      ]
    },
    {
      "cell_type": "markdown",
      "metadata": {
        "id": "jB5aLN-4FKSO"
      },
      "source": [
        "### Логистическая регрессия\n",
        "\n",
        "### Logistic regression"
      ]
    },
    {
      "cell_type": "code",
      "execution_count": null,
      "metadata": {
        "id": "9T2P9WuKFKSP",
        "outputId": "8c8395d9-b22f-4483-baf3-10036fa557f5",
        "colab": {
          "base_uri": "https://localhost:8080/"
        }
      },
      "outputs": [
        {
          "output_type": "stream",
          "name": "stderr",
          "text": [
            "/usr/local/lib/python3.7/dist-packages/sklearn/linear_model/_logistic.py:818: ConvergenceWarning: lbfgs failed to converge (status=1):\n",
            "STOP: TOTAL NO. of ITERATIONS REACHED LIMIT.\n",
            "\n",
            "Increase the number of iterations (max_iter) or scale the data as shown in:\n",
            "    https://scikit-learn.org/stable/modules/preprocessing.html\n",
            "Please also refer to the documentation for alternative solver options:\n",
            "    https://scikit-learn.org/stable/modules/linear_model.html#logistic-regression\n",
            "  extra_warning_msg=_LOGISTIC_SOLVER_CONVERGENCE_MSG,\n"
          ]
        },
        {
          "output_type": "execute_result",
          "data": {
            "text/plain": [
              "LogisticRegression(max_iter=500)"
            ]
          },
          "metadata": {},
          "execution_count": 59
        }
      ],
      "source": [
        "from sklearn.linear_model import LogisticRegression\n",
        "model = LogisticRegression(max_iter=500)\n",
        "model.fit(X_train, y_train)"
      ]
    },
    {
      "cell_type": "code",
      "execution_count": null,
      "metadata": {
        "id": "N26GCtjCFKSS",
        "outputId": "c3217900-e0fd-4abd-acb4-96b4ecc26710",
        "colab": {
          "base_uri": "https://localhost:8080/"
        }
      },
      "outputs": [
        {
          "output_type": "execute_result",
          "data": {
            "text/plain": [
              "(0.0, 0.125)"
            ]
          },
          "metadata": {},
          "execution_count": 60
        }
      ],
      "source": [
        "y_train_pred = model.predict(X_train)\n",
        "y_test_pred = model.predict(X_test)\n",
        "np.mean(y_train != y_train_pred), np.mean(y_test != y_test_pred)"
      ]
    },
    {
      "cell_type": "markdown",
      "metadata": {
        "id": "s_c7toIZLLBq"
      },
      "source": [
        "## Torch"
      ]
    },
    {
      "cell_type": "code",
      "execution_count": null,
      "metadata": {
        "id": "myHHdHIaLLBq"
      },
      "outputs": [],
      "source": [
        "import torch # библиотека нейронных сетей\n",
        "import torch.nn as nn # модуль слоёв\n",
        "import numpy as np"
      ]
    },
    {
      "cell_type": "code",
      "execution_count": null,
      "metadata": {
        "colab": {
          "base_uri": "https://localhost:8080/"
        },
        "id": "akDfx1CgLLBq",
        "outputId": "3cd4d9de-0ede-4709-dd43-90903526f010"
      },
      "outputs": [
        {
          "output_type": "execute_result",
          "data": {
            "text/plain": [
              "Sequential(\n",
              "  (0): Linear(in_features=784, out_features=50, bias=True)\n",
              "  (1): ReLU()\n",
              "  (2): Linear(in_features=50, out_features=10, bias=True)\n",
              ")"
            ]
          },
          "metadata": {},
          "execution_count": 61
        }
      ],
      "source": [
        "model = nn.Sequential(\n",
        "    nn.Linear(d, 50),\n",
        "    nn.ReLU(),\n",
        "    nn.Linear(50, 10)\n",
        ")\n",
        "model"
      ]
    },
    {
      "cell_type": "code",
      "execution_count": null,
      "metadata": {
        "id": "JjiIIXhzLLBq"
      },
      "outputs": [],
      "source": [
        "# Функция обучения (одна тренировочная эпоха)\n",
        "def train_epoch(model, dataloader, loss_function, optimizer):\n",
        "    losses = []\n",
        "    for X_batch, y_batch in dataloader:\n",
        "        logits = model(X_batch)\n",
        "        loss = loss_function(logits, y_batch)\n",
        "        optimizer.zero_grad()\n",
        "        loss.backward()\n",
        "        optimizer.step()\n",
        "        losses.append(loss.data.numpy())\n",
        "    return np.mean(losses)"
      ]
    },
    {
      "cell_type": "code",
      "execution_count": null,
      "metadata": {
        "id": "g0GB8yZELLBr"
      },
      "outputs": [],
      "source": [
        "from torch.utils.data import TensorDataset, DataLoader\n",
        "\n",
        "# Функция обучения (несколько тренировочных эпох)\n",
        "def train(model, X, y, loss_function, optimizer, batch_size=16, epochs=16):\n",
        "    X_tensor = torch.Tensor(X)\n",
        "    y_tensor = torch.LongTensor(y)\n",
        "    model.train()\n",
        "    dataset = TensorDataset(X_tensor, y_tensor)\n",
        "    dataloader = DataLoader(dataset, batch_size = batch_size, shuffle = True)\n",
        "    for _ in range(epochs):\n",
        "        for X_batch, y_batch in dataloader:\n",
        "            logits = model(X_batch)\n",
        "            loss = loss_function(logits, y_batch)\n",
        "            optimizer.zero_grad()\n",
        "            loss.backward()\n",
        "            optimizer.step()\n",
        "        print(loss.data.numpy())\n"
      ]
    },
    {
      "cell_type": "code",
      "execution_count": null,
      "metadata": {
        "id": "yo438v9aLLBr"
      },
      "outputs": [],
      "source": [
        "loss_function = nn.CrossEntropyLoss()\n",
        "optimizer = torch.optim.Adam(model.parameters())"
      ]
    },
    {
      "cell_type": "code",
      "execution_count": null,
      "metadata": {
        "colab": {
          "base_uri": "https://localhost:8080/"
        },
        "id": "V0iiMzS2LLBr",
        "outputId": "cdf5d895-c2ec-4cab-bb64-3e4426219ed5"
      },
      "outputs": [
        {
          "output_type": "stream",
          "name": "stdout",
          "text": [
            "0.9520891\n",
            "0.6257251\n",
            "0.19205394\n",
            "0.3245696\n",
            "0.026348641\n",
            "0.21302919\n",
            "0.41665044\n",
            "0.015567468\n",
            "0.038983542\n",
            "0.59677297\n",
            "0.27589014\n",
            "0.0068264357\n",
            "0.026325675\n",
            "0.21987686\n",
            "0.07656579\n",
            "0.38738328\n"
          ]
        }
      ],
      "source": [
        "train(model, X_train, y_train, loss_function, optimizer)"
      ]
    },
    {
      "cell_type": "code",
      "execution_count": null,
      "metadata": {
        "id": "tCBJ4RAfLLBr"
      },
      "outputs": [],
      "source": [
        "from sklearn.metrics import confusion_matrix, accuracy_score\n",
        "\n",
        "def print_confusion_matrix(model, X, y):\n",
        "    model.eval()\n",
        "    y_pred = model(torch.Tensor(X)).data.numpy().argmax(axis = 1)\n",
        "    print(confusion_matrix(y, y_pred))\n",
        "    accuracy = accuracy_score(y, y_pred)\n",
        "    print(f\"Accuracy = {accuracy}\")\n",
        "    return accuracy"
      ]
    },
    {
      "cell_type": "code",
      "execution_count": null,
      "metadata": {
        "colab": {
          "base_uri": "https://localhost:8080/"
        },
        "id": "ET_1JWDiLLBr",
        "outputId": "c992c3b4-2784-43d0-ce35-196a1c27f98f"
      },
      "outputs": [
        {
          "output_type": "stream",
          "name": "stdout",
          "text": [
            "[[ 98   0   0   0   0   1   0   0   0   0]\n",
            " [  0 110   1   0   1   0   1   0   0   0]\n",
            " [  0   2  88   1   1   1   1   0   6   0]\n",
            " [  0   0   1  88   0   1   2   0   6   4]\n",
            " [  0   0   0   0  87   0   7   0   0   3]\n",
            " [  1   1   0   2   0  81   4   0   1   0]\n",
            " [  0   0   0   0   0   1  94   0   3   0]\n",
            " [  0   5  10   0   0   0   0  82   2   5]\n",
            " [  1   2   0   1   1   1   2   0  90   0]\n",
            " [  0   2   1   2   9   0   0   1   5  79]]\n",
            "Accuracy = 0.897\n"
          ]
        },
        {
          "output_type": "execute_result",
          "data": {
            "text/plain": [
              "0.897"
            ]
          },
          "metadata": {},
          "execution_count": 67
        }
      ],
      "source": [
        "print_confusion_matrix(model, X_test, y_test)"
      ]
    },
    {
      "cell_type": "markdown",
      "metadata": {
        "id": "1zxM7gcvLLBr"
      },
      "source": [
        "## CNN"
      ]
    },
    {
      "cell_type": "code",
      "execution_count": null,
      "metadata": {
        "id": "ZBg-Hlo0LLBr"
      },
      "outputs": [],
      "source": [
        "import torch\n",
        "import torch.nn as nn"
      ]
    },
    {
      "cell_type": "code",
      "execution_count": null,
      "metadata": {
        "id": "PTKzu6F0LLBs"
      },
      "outputs": [],
      "source": [
        "batch_size = 64"
      ]
    },
    {
      "cell_type": "code",
      "execution_count": null,
      "metadata": {
        "id": "KYTOIgIdLLBs"
      },
      "outputs": [],
      "source": [
        "from torch.utils.data import DataLoader, TensorDataset\n",
        "\n",
        "X_train_tensor = torch.Tensor(X_train).reshape(N_train, 1, 28, 28)\n",
        "y_train_tensor = torch.LongTensor(y_train)\n",
        "train_dataset = TensorDataset(X_train_tensor, y_train_tensor)\n",
        "train_loader = DataLoader(train_dataset, batch_size = batch_size, shuffle = True)\n",
        "\n",
        "X_test_tensor = torch.Tensor(X_test).reshape(N_test, 1, 28, 28)\n",
        "y_test_tensor = torch.LongTensor(y_test)\n",
        "test_dataset = TensorDataset(X_test_tensor, y_test_tensor)\n",
        "test_loader = DataLoader(test_dataset, batch_size = batch_size, shuffle = True)"
      ]
    },
    {
      "cell_type": "code",
      "execution_count": null,
      "metadata": {
        "colab": {
          "base_uri": "https://localhost:8080/",
          "height": 423,
          "referenced_widgets": [
            "08b35c078a9f4541859920cf655315a2",
            "93fe48bbaebd42f381f17d17e128ab2c",
            "8df6e470f2a841148a8d8d1c2717d939",
            "2a6807b802754166aa7be8abc2b6776b",
            "b6d7e6c94d6d4def9258aa9a888b5455",
            "e654452f55034c2fa8617004149b9f9b",
            "5a71df3734a4412fb840b62fd745fc72",
            "f1a13ed3314e45ae81daa34ea546b6bc",
            "30afbdb34bc14873abd9ca4747cd2218",
            "adee4cb40eb74ad7a871b3183c279672",
            "fec85a80d6104a4785c1d994730c2f3c",
            "76934700a7264d6b92ffcb4209bde155",
            "8b1437d20d49419fadb9f3b48953e13a",
            "88c59a7ab1df483b9135f8351cefc4d5",
            "d7f0e0c49a2b4e38ba864e54ffe29429",
            "857d0b333a3f43c8b83eba52e22a226c",
            "e4c9d5c74fa040268b63245d0d57cc12",
            "f69e9cb8470c4636b0df394f2261bac2",
            "cd9b2e202e284068a4ac5e3d26c90cf0",
            "9f84aca88086401c9893efe17f0ba46e",
            "76e0086f36eb4e2faa4565e387d53a9a",
            "22f8a01257634dd786241282538a6b6c",
            "13bfbf34865546138651141bc21e7cf9",
            "87e5f41e23324f58a8a4ec7c95e4571e",
            "22d681de31284f53a562ef6cb9dd82e3",
            "22ba6cf299e64cb790de6b00b7d02185",
            "2d1e3efda29940aa8775a29deecbe093",
            "7982f367899744b09b2741a59e7dca4d",
            "193b6e8bd05e43a393f784d5e47a3497",
            "8daa0fcf52384137afec4b868bb0c4ed",
            "5d2919edfc7e47d69375d045b6fc6edf",
            "ecb2c2a86fa14de290d347ba45027b66",
            "78de1068e2fd42d0805698ec6f3960d6",
            "c97e8f277c50430dbd0870714e968c39",
            "b5b6c666ca734dbd9d754160ec69bead",
            "7d9b8ae7f92b4f4e9f7a3694ec20fde7",
            "e5bc63d1608a4b5780634fb1625c2c69",
            "a43183d7bca344da924f6047f21b9338",
            "f8643c423f3645b9860e3128c35bce54",
            "9bda14f7005a49f291447ac6cacba4b4",
            "9c052dba2faa42ba90a1c27dfec2d3c9",
            "5ae2a92c38f245a9a1423c1960973284",
            "b4f9dae8dfde4dd0a8b0d839cc6eab24",
            "d35f95219bef4eeda020c3e571ff64ec"
          ]
        },
        "id": "TU7du4-rLLBs",
        "outputId": "27926325-ae84-4a50-ae78-27a3934a154f"
      },
      "outputs": [
        {
          "output_type": "stream",
          "name": "stdout",
          "text": [
            "Downloading http://yann.lecun.com/exdb/mnist/train-images-idx3-ubyte.gz\n",
            "Downloading http://yann.lecun.com/exdb/mnist/train-images-idx3-ubyte.gz to ./data/MNIST/raw/train-images-idx3-ubyte.gz\n"
          ]
        },
        {
          "output_type": "display_data",
          "data": {
            "text/plain": [
              "  0%|          | 0/9912422 [00:00<?, ?it/s]"
            ],
            "application/vnd.jupyter.widget-view+json": {
              "version_major": 2,
              "version_minor": 0,
              "model_id": "08b35c078a9f4541859920cf655315a2"
            }
          },
          "metadata": {}
        },
        {
          "output_type": "stream",
          "name": "stdout",
          "text": [
            "Extracting ./data/MNIST/raw/train-images-idx3-ubyte.gz to ./data/MNIST/raw\n",
            "\n",
            "Downloading http://yann.lecun.com/exdb/mnist/train-labels-idx1-ubyte.gz\n",
            "Downloading http://yann.lecun.com/exdb/mnist/train-labels-idx1-ubyte.gz to ./data/MNIST/raw/train-labels-idx1-ubyte.gz\n"
          ]
        },
        {
          "output_type": "display_data",
          "data": {
            "text/plain": [
              "  0%|          | 0/28881 [00:00<?, ?it/s]"
            ],
            "application/vnd.jupyter.widget-view+json": {
              "version_major": 2,
              "version_minor": 0,
              "model_id": "76934700a7264d6b92ffcb4209bde155"
            }
          },
          "metadata": {}
        },
        {
          "output_type": "stream",
          "name": "stdout",
          "text": [
            "Extracting ./data/MNIST/raw/train-labels-idx1-ubyte.gz to ./data/MNIST/raw\n",
            "\n",
            "Downloading http://yann.lecun.com/exdb/mnist/t10k-images-idx3-ubyte.gz\n",
            "Downloading http://yann.lecun.com/exdb/mnist/t10k-images-idx3-ubyte.gz to ./data/MNIST/raw/t10k-images-idx3-ubyte.gz\n"
          ]
        },
        {
          "output_type": "display_data",
          "data": {
            "text/plain": [
              "  0%|          | 0/1648877 [00:00<?, ?it/s]"
            ],
            "application/vnd.jupyter.widget-view+json": {
              "version_major": 2,
              "version_minor": 0,
              "model_id": "13bfbf34865546138651141bc21e7cf9"
            }
          },
          "metadata": {}
        },
        {
          "output_type": "stream",
          "name": "stdout",
          "text": [
            "Extracting ./data/MNIST/raw/t10k-images-idx3-ubyte.gz to ./data/MNIST/raw\n",
            "\n",
            "Downloading http://yann.lecun.com/exdb/mnist/t10k-labels-idx1-ubyte.gz\n",
            "Downloading http://yann.lecun.com/exdb/mnist/t10k-labels-idx1-ubyte.gz to ./data/MNIST/raw/t10k-labels-idx1-ubyte.gz\n"
          ]
        },
        {
          "output_type": "display_data",
          "data": {
            "text/plain": [
              "  0%|          | 0/4542 [00:00<?, ?it/s]"
            ],
            "application/vnd.jupyter.widget-view+json": {
              "version_major": 2,
              "version_minor": 0,
              "model_id": "c97e8f277c50430dbd0870714e968c39"
            }
          },
          "metadata": {}
        },
        {
          "output_type": "stream",
          "name": "stdout",
          "text": [
            "Extracting ./data/MNIST/raw/t10k-labels-idx1-ubyte.gz to ./data/MNIST/raw\n",
            "\n"
          ]
        }
      ],
      "source": [
        "# Альтернатива\n",
        "# Можем загрузить непсредственно из torch\n",
        "from torchvision import datasets, transforms\n",
        "train_dataset = datasets.MNIST(root='./data/', train=True,  transform=transforms.ToTensor(), download=True)\n",
        "test_dataset  = datasets.MNIST(root='./data/', train=False, transform=transforms.ToTensor())\n",
        "\n",
        "from torch.utils.data import DataLoader\n",
        "# Data Loader (Input Pipeline)\n",
        "batch_size = 64\n",
        "\n",
        "train_loader = DataLoader(dataset=train_dataset, batch_size=batch_size, shuffle=True)\n",
        "test_loader  = DataLoader(dataset=test_dataset,  batch_size=batch_size, shuffle=False)"
      ]
    },
    {
      "cell_type": "code",
      "execution_count": null,
      "metadata": {
        "colab": {
          "base_uri": "https://localhost:8080/"
        },
        "id": "EXqigP1ELLBs",
        "outputId": "b1da6cce-110e-48f8-a8d9-5010d485edf7"
      },
      "outputs": [
        {
          "output_type": "execute_result",
          "data": {
            "text/plain": [
              "Sequential(\n",
              "  (0): Conv2d(1, 8, kernel_size=(5, 5), stride=(1, 1))\n",
              "  (1): MaxPool2d(kernel_size=3, stride=3, padding=0, dilation=1, ceil_mode=False)\n",
              "  (2): ReLU()\n",
              "  (3): Conv2d(8, 16, kernel_size=(5, 5), stride=(1, 1))\n",
              "  (4): MaxPool2d(kernel_size=2, stride=2, padding=0, dilation=1, ceil_mode=False)\n",
              "  (5): ReLU()\n",
              "  (6): Flatten(start_dim=1, end_dim=-1)\n",
              "  (7): Linear(in_features=64, out_features=32, bias=True)\n",
              "  (8): ReLU()\n",
              "  (9): Linear(in_features=32, out_features=10, bias=True)\n",
              ")"
            ]
          },
          "metadata": {},
          "execution_count": 72
        }
      ],
      "source": [
        "model = nn.Sequential(\n",
        "    nn.Conv2d(in_channels = 1, out_channels = 8, kernel_size = 5), # 24x24\n",
        "    nn.MaxPool2d(kernel_size = 3), # 8x8\n",
        "    nn.ReLU(),\n",
        "    nn.Conv2d(in_channels = 8, out_channels = 16, kernel_size = 5), # 4x4\n",
        "    nn.MaxPool2d(kernel_size = 2), # 2x2\n",
        "    nn.ReLU(),\n",
        "    nn.Flatten(),\n",
        "    nn.Linear(in_features = 64, out_features = 32),\n",
        "    nn.ReLU(),\n",
        "    nn.Linear(32, 10)\n",
        ")\n",
        "model"
      ]
    },
    {
      "cell_type": "code",
      "execution_count": null,
      "metadata": {
        "colab": {
          "base_uri": "https://localhost:8080/"
        },
        "id": "J5km55tGLLBs",
        "outputId": "ee2564ab-0801-4429-a6d4-30f8c714390c"
      },
      "outputs": [
        {
          "output_type": "execute_result",
          "data": {
            "text/plain": [
              "Sequential(\n",
              "  (0): Conv2d(1, 8, kernel_size=(3, 3), stride=(1, 1))\n",
              "  (1): MaxPool2d(kernel_size=2, stride=2, padding=0, dilation=1, ceil_mode=False)\n",
              "  (2): ReLU()\n",
              "  (3): Conv2d(8, 16, kernel_size=(5, 5), stride=(1, 1))\n",
              "  (4): MaxPool2d(kernel_size=3, stride=3, padding=0, dilation=1, ceil_mode=False)\n",
              "  (5): ReLU()\n",
              "  (6): Flatten(start_dim=1, end_dim=-1)\n",
              "  (7): Linear(in_features=144, out_features=32, bias=True)\n",
              "  (8): ReLU()\n",
              "  (9): Linear(in_features=32, out_features=10, bias=True)\n",
              ")"
            ]
          },
          "metadata": {},
          "execution_count": 73
        }
      ],
      "source": [
        "model = nn.Sequential(\n",
        "    nn.Conv2d(in_channels = 1, out_channels = 8, kernel_size = 3), # 26x26\n",
        "    nn.MaxPool2d(kernel_size = 2), # 13x13\n",
        "    nn.ReLU(),\n",
        "    nn.Conv2d(in_channels = 8, out_channels = 16, kernel_size = 5), # 9x9\n",
        "    nn.MaxPool2d(kernel_size = 3), # 3x3\n",
        "    nn.ReLU(),\n",
        "    nn.Flatten(),\n",
        "    nn.Linear(in_features = 16*3*3, out_features = 32),\n",
        "    nn.ReLU(),\n",
        "    nn.Linear(32, 10)\n",
        ")\n",
        "model"
      ]
    },
    {
      "cell_type": "code",
      "execution_count": null,
      "metadata": {
        "id": "quEu0Na9LLBs"
      },
      "outputs": [],
      "source": [
        "#optimizer = optim.SGD(model.parameters(), lr=0.01, momentum=0.5)\n",
        "#loss_function = nn.CrossEntropyLoss()\n",
        "#optimizer = torch.optim.Adam(model.parameters())\n",
        "loss_function = nn.CrossEntropyLoss()\n",
        "optimizer = torch.optim.Adam(model.parameters())"
      ]
    },
    {
      "cell_type": "code",
      "execution_count": null,
      "metadata": {
        "id": "FqFXMm3ZLLBt"
      },
      "outputs": [],
      "source": [
        "def train(epoch):\n",
        "    model.train()\n",
        "    for batch_idx, (data, target) in enumerate(train_loader):\n",
        "        optimizer.zero_grad()\n",
        "        output = model(data)\n",
        "        loss = loss_function(output, target)\n",
        "        loss.backward()\n",
        "        optimizer.step()\n",
        "        if batch_idx % 100 == 0:\n",
        "            print('Train Epoch: {} [{}/{} ({:.0f}%)]\\tLoss: {:.6f}'.format(\n",
        "                epoch, batch_idx * len(data), len(train_loader.dataset),\n",
        "                100. * batch_idx / len(train_loader), loss.item()))"
      ]
    },
    {
      "cell_type": "code",
      "execution_count": null,
      "metadata": {
        "id": "N9G3hzyULLBt"
      },
      "outputs": [],
      "source": [
        "def test():\n",
        "    model.eval()\n",
        "    test_loss = 0\n",
        "    correct = 0\n",
        "    for data, target in test_loader:\n",
        "        output = model(data)\n",
        "        test_loss += loss_function(output, target).data\n",
        "        pred = output.data.max(1, keepdim=True)[1]\n",
        "        correct += pred.eq(target.data.view_as(pred)).cpu().sum()\n",
        "\n",
        "    test_loss /= len(test_loader.dataset)\n",
        "    print('\\nTest set: Average loss: {:.4f}, Accuracy: {}/{} ({:.2f}%)\\n'.format(\n",
        "        test_loss, correct, len(test_loader.dataset),\n",
        "        100. * correct / len(test_loader.dataset)))\n",
        "        "
      ]
    },
    {
      "cell_type": "code",
      "execution_count": null,
      "metadata": {
        "colab": {
          "base_uri": "https://localhost:8080/"
        },
        "id": "6vJYgK_sLLBt",
        "outputId": "a7c997d8-37a4-4b8f-9a4a-9760ecf9a10b"
      },
      "outputs": [
        {
          "output_type": "stream",
          "name": "stdout",
          "text": [
            "Train Epoch: 1 [0/60000 (0%)]\tLoss: 2.320322\n",
            "Train Epoch: 1 [6400/60000 (11%)]\tLoss: 0.645832\n",
            "Train Epoch: 1 [12800/60000 (21%)]\tLoss: 0.286871\n",
            "Train Epoch: 1 [19200/60000 (32%)]\tLoss: 0.314758\n",
            "Train Epoch: 1 [25600/60000 (43%)]\tLoss: 0.218511\n",
            "Train Epoch: 1 [32000/60000 (53%)]\tLoss: 0.176571\n",
            "Train Epoch: 1 [38400/60000 (64%)]\tLoss: 0.143992\n",
            "Train Epoch: 1 [44800/60000 (75%)]\tLoss: 0.158934\n",
            "Train Epoch: 1 [51200/60000 (85%)]\tLoss: 0.085918\n",
            "Train Epoch: 1 [57600/60000 (96%)]\tLoss: 0.160804\n",
            "\n",
            "Test set: Average loss: 0.0017, Accuracy: 9630/10000 (96.30%)\n",
            "\n",
            "Train Epoch: 2 [0/60000 (0%)]\tLoss: 0.110773\n",
            "Train Epoch: 2 [6400/60000 (11%)]\tLoss: 0.074842\n",
            "Train Epoch: 2 [12800/60000 (21%)]\tLoss: 0.060421\n",
            "Train Epoch: 2 [19200/60000 (32%)]\tLoss: 0.046294\n",
            "Train Epoch: 2 [25600/60000 (43%)]\tLoss: 0.179800\n",
            "Train Epoch: 2 [32000/60000 (53%)]\tLoss: 0.100914\n",
            "Train Epoch: 2 [38400/60000 (64%)]\tLoss: 0.040610\n",
            "Train Epoch: 2 [44800/60000 (75%)]\tLoss: 0.117176\n",
            "Train Epoch: 2 [51200/60000 (85%)]\tLoss: 0.194391\n",
            "Train Epoch: 2 [57600/60000 (96%)]\tLoss: 0.067065\n",
            "\n",
            "Test set: Average loss: 0.0013, Accuracy: 9723/10000 (97.23%)\n",
            "\n",
            "Train Epoch: 3 [0/60000 (0%)]\tLoss: 0.163216\n",
            "Train Epoch: 3 [6400/60000 (11%)]\tLoss: 0.032320\n",
            "Train Epoch: 3 [12800/60000 (21%)]\tLoss: 0.022065\n",
            "Train Epoch: 3 [19200/60000 (32%)]\tLoss: 0.180479\n",
            "Train Epoch: 3 [25600/60000 (43%)]\tLoss: 0.062728\n",
            "Train Epoch: 3 [32000/60000 (53%)]\tLoss: 0.046501\n",
            "Train Epoch: 3 [38400/60000 (64%)]\tLoss: 0.147571\n",
            "Train Epoch: 3 [44800/60000 (75%)]\tLoss: 0.021221\n",
            "Train Epoch: 3 [51200/60000 (85%)]\tLoss: 0.240634\n",
            "Train Epoch: 3 [57600/60000 (96%)]\tLoss: 0.023032\n",
            "\n",
            "Test set: Average loss: 0.0009, Accuracy: 9817/10000 (98.17%)\n",
            "\n",
            "Train Epoch: 4 [0/60000 (0%)]\tLoss: 0.017126\n",
            "Train Epoch: 4 [6400/60000 (11%)]\tLoss: 0.279534\n",
            "Train Epoch: 4 [12800/60000 (21%)]\tLoss: 0.031494\n",
            "Train Epoch: 4 [19200/60000 (32%)]\tLoss: 0.008237\n",
            "Train Epoch: 4 [25600/60000 (43%)]\tLoss: 0.062854\n",
            "Train Epoch: 4 [32000/60000 (53%)]\tLoss: 0.032212\n",
            "Train Epoch: 4 [38400/60000 (64%)]\tLoss: 0.082310\n",
            "Train Epoch: 4 [44800/60000 (75%)]\tLoss: 0.065681\n",
            "Train Epoch: 4 [51200/60000 (85%)]\tLoss: 0.047734\n",
            "Train Epoch: 4 [57600/60000 (96%)]\tLoss: 0.078787\n",
            "\n",
            "Test set: Average loss: 0.0011, Accuracy: 9776/10000 (97.76%)\n",
            "\n",
            "Train Epoch: 5 [0/60000 (0%)]\tLoss: 0.080062\n",
            "Train Epoch: 5 [6400/60000 (11%)]\tLoss: 0.006804\n",
            "Train Epoch: 5 [12800/60000 (21%)]\tLoss: 0.052938\n",
            "Train Epoch: 5 [19200/60000 (32%)]\tLoss: 0.132035\n",
            "Train Epoch: 5 [25600/60000 (43%)]\tLoss: 0.065797\n",
            "Train Epoch: 5 [32000/60000 (53%)]\tLoss: 0.049279\n",
            "Train Epoch: 5 [38400/60000 (64%)]\tLoss: 0.010531\n",
            "Train Epoch: 5 [44800/60000 (75%)]\tLoss: 0.082662\n",
            "Train Epoch: 5 [51200/60000 (85%)]\tLoss: 0.052702\n",
            "Train Epoch: 5 [57600/60000 (96%)]\tLoss: 0.029911\n",
            "\n",
            "Test set: Average loss: 0.0010, Accuracy: 9797/10000 (97.97%)\n",
            "\n",
            "Train Epoch: 6 [0/60000 (0%)]\tLoss: 0.021600\n",
            "Train Epoch: 6 [6400/60000 (11%)]\tLoss: 0.057565\n",
            "Train Epoch: 6 [12800/60000 (21%)]\tLoss: 0.086816\n",
            "Train Epoch: 6 [19200/60000 (32%)]\tLoss: 0.040580\n",
            "Train Epoch: 6 [25600/60000 (43%)]\tLoss: 0.084163\n",
            "Train Epoch: 6 [32000/60000 (53%)]\tLoss: 0.088679\n",
            "Train Epoch: 6 [38400/60000 (64%)]\tLoss: 0.015106\n",
            "Train Epoch: 6 [44800/60000 (75%)]\tLoss: 0.017774\n",
            "Train Epoch: 6 [51200/60000 (85%)]\tLoss: 0.005178\n",
            "Train Epoch: 6 [57600/60000 (96%)]\tLoss: 0.063368\n",
            "\n",
            "Test set: Average loss: 0.0007, Accuracy: 9851/10000 (98.51%)\n",
            "\n",
            "Train Epoch: 7 [0/60000 (0%)]\tLoss: 0.110972\n",
            "Train Epoch: 7 [6400/60000 (11%)]\tLoss: 0.047036\n",
            "Train Epoch: 7 [12800/60000 (21%)]\tLoss: 0.015358\n",
            "Train Epoch: 7 [19200/60000 (32%)]\tLoss: 0.008727\n",
            "Train Epoch: 7 [25600/60000 (43%)]\tLoss: 0.123827\n",
            "Train Epoch: 7 [32000/60000 (53%)]\tLoss: 0.080902\n",
            "Train Epoch: 7 [38400/60000 (64%)]\tLoss: 0.033844\n",
            "Train Epoch: 7 [44800/60000 (75%)]\tLoss: 0.003114\n",
            "Train Epoch: 7 [51200/60000 (85%)]\tLoss: 0.153838\n",
            "Train Epoch: 7 [57600/60000 (96%)]\tLoss: 0.105217\n",
            "\n",
            "Test set: Average loss: 0.0009, Accuracy: 9819/10000 (98.19%)\n",
            "\n",
            "Train Epoch: 8 [0/60000 (0%)]\tLoss: 0.074264\n",
            "Train Epoch: 8 [6400/60000 (11%)]\tLoss: 0.022931\n",
            "Train Epoch: 8 [12800/60000 (21%)]\tLoss: 0.043424\n",
            "Train Epoch: 8 [19200/60000 (32%)]\tLoss: 0.021973\n",
            "Train Epoch: 8 [25600/60000 (43%)]\tLoss: 0.007122\n",
            "Train Epoch: 8 [32000/60000 (53%)]\tLoss: 0.004208\n",
            "Train Epoch: 8 [38400/60000 (64%)]\tLoss: 0.055717\n",
            "Train Epoch: 8 [44800/60000 (75%)]\tLoss: 0.023052\n",
            "Train Epoch: 8 [51200/60000 (85%)]\tLoss: 0.026778\n",
            "Train Epoch: 8 [57600/60000 (96%)]\tLoss: 0.099683\n",
            "\n",
            "Test set: Average loss: 0.0008, Accuracy: 9832/10000 (98.32%)\n",
            "\n",
            "Train Epoch: 9 [0/60000 (0%)]\tLoss: 0.043178\n",
            "Train Epoch: 9 [6400/60000 (11%)]\tLoss: 0.014086\n",
            "Train Epoch: 9 [12800/60000 (21%)]\tLoss: 0.046046\n",
            "Train Epoch: 9 [19200/60000 (32%)]\tLoss: 0.045124\n",
            "Train Epoch: 9 [25600/60000 (43%)]\tLoss: 0.079230\n",
            "Train Epoch: 9 [32000/60000 (53%)]\tLoss: 0.021518\n",
            "Train Epoch: 9 [38400/60000 (64%)]\tLoss: 0.010432\n",
            "Train Epoch: 9 [44800/60000 (75%)]\tLoss: 0.176957\n",
            "Train Epoch: 9 [51200/60000 (85%)]\tLoss: 0.035557\n",
            "Train Epoch: 9 [57600/60000 (96%)]\tLoss: 0.035616\n",
            "\n",
            "Test set: Average loss: 0.0007, Accuracy: 9864/10000 (98.64%)\n",
            "\n",
            "Train Epoch: 10 [0/60000 (0%)]\tLoss: 0.088903\n",
            "Train Epoch: 10 [6400/60000 (11%)]\tLoss: 0.043521\n",
            "Train Epoch: 10 [12800/60000 (21%)]\tLoss: 0.026810\n",
            "Train Epoch: 10 [19200/60000 (32%)]\tLoss: 0.015631\n",
            "Train Epoch: 10 [25600/60000 (43%)]\tLoss: 0.079024\n",
            "Train Epoch: 10 [32000/60000 (53%)]\tLoss: 0.043712\n",
            "Train Epoch: 10 [38400/60000 (64%)]\tLoss: 0.032449\n",
            "Train Epoch: 10 [44800/60000 (75%)]\tLoss: 0.019951\n",
            "Train Epoch: 10 [51200/60000 (85%)]\tLoss: 0.049320\n",
            "Train Epoch: 10 [57600/60000 (96%)]\tLoss: 0.002975\n",
            "\n",
            "Test set: Average loss: 0.0007, Accuracy: 9851/10000 (98.51%)\n",
            "\n",
            "Train Epoch: 11 [0/60000 (0%)]\tLoss: 0.114785\n",
            "Train Epoch: 11 [6400/60000 (11%)]\tLoss: 0.008042\n",
            "Train Epoch: 11 [12800/60000 (21%)]\tLoss: 0.010034\n",
            "Train Epoch: 11 [19200/60000 (32%)]\tLoss: 0.044680\n",
            "Train Epoch: 11 [25600/60000 (43%)]\tLoss: 0.102999\n",
            "Train Epoch: 11 [32000/60000 (53%)]\tLoss: 0.077401\n",
            "Train Epoch: 11 [38400/60000 (64%)]\tLoss: 0.012095\n",
            "Train Epoch: 11 [44800/60000 (75%)]\tLoss: 0.010922\n",
            "Train Epoch: 11 [51200/60000 (85%)]\tLoss: 0.039501\n",
            "Train Epoch: 11 [57600/60000 (96%)]\tLoss: 0.046400\n",
            "\n",
            "Test set: Average loss: 0.0006, Accuracy: 9880/10000 (98.80%)\n",
            "\n",
            "Train Epoch: 12 [0/60000 (0%)]\tLoss: 0.017971\n",
            "Train Epoch: 12 [6400/60000 (11%)]\tLoss: 0.007870\n",
            "Train Epoch: 12 [12800/60000 (21%)]\tLoss: 0.067167\n",
            "Train Epoch: 12 [19200/60000 (32%)]\tLoss: 0.004575\n",
            "Train Epoch: 12 [25600/60000 (43%)]\tLoss: 0.003502\n",
            "Train Epoch: 12 [32000/60000 (53%)]\tLoss: 0.003119\n",
            "Train Epoch: 12 [38400/60000 (64%)]\tLoss: 0.085773\n",
            "Train Epoch: 12 [44800/60000 (75%)]\tLoss: 0.007577\n",
            "Train Epoch: 12 [51200/60000 (85%)]\tLoss: 0.051275\n",
            "Train Epoch: 12 [57600/60000 (96%)]\tLoss: 0.048438\n",
            "\n",
            "Test set: Average loss: 0.0007, Accuracy: 9856/10000 (98.56%)\n",
            "\n",
            "Train Epoch: 13 [0/60000 (0%)]\tLoss: 0.098569\n",
            "Train Epoch: 13 [6400/60000 (11%)]\tLoss: 0.060740\n",
            "Train Epoch: 13 [12800/60000 (21%)]\tLoss: 0.094693\n",
            "Train Epoch: 13 [19200/60000 (32%)]\tLoss: 0.011211\n",
            "Train Epoch: 13 [25600/60000 (43%)]\tLoss: 0.047014\n",
            "Train Epoch: 13 [32000/60000 (53%)]\tLoss: 0.001468\n",
            "Train Epoch: 13 [38400/60000 (64%)]\tLoss: 0.016834\n",
            "Train Epoch: 13 [44800/60000 (75%)]\tLoss: 0.012082\n",
            "Train Epoch: 13 [51200/60000 (85%)]\tLoss: 0.069811\n",
            "Train Epoch: 13 [57600/60000 (96%)]\tLoss: 0.058625\n",
            "\n",
            "Test set: Average loss: 0.0006, Accuracy: 9883/10000 (98.83%)\n",
            "\n",
            "Train Epoch: 14 [0/60000 (0%)]\tLoss: 0.002209\n",
            "Train Epoch: 14 [6400/60000 (11%)]\tLoss: 0.051731\n",
            "Train Epoch: 14 [12800/60000 (21%)]\tLoss: 0.004767\n",
            "Train Epoch: 14 [19200/60000 (32%)]\tLoss: 0.000999\n",
            "Train Epoch: 14 [25600/60000 (43%)]\tLoss: 0.006822\n",
            "Train Epoch: 14 [32000/60000 (53%)]\tLoss: 0.010602\n",
            "Train Epoch: 14 [38400/60000 (64%)]\tLoss: 0.023789\n",
            "Train Epoch: 14 [44800/60000 (75%)]\tLoss: 0.036055\n",
            "Train Epoch: 14 [51200/60000 (85%)]\tLoss: 0.001689\n",
            "Train Epoch: 14 [57600/60000 (96%)]\tLoss: 0.047300\n",
            "\n",
            "Test set: Average loss: 0.0006, Accuracy: 9862/10000 (98.62%)\n",
            "\n",
            "Train Epoch: 15 [0/60000 (0%)]\tLoss: 0.151682\n",
            "Train Epoch: 15 [6400/60000 (11%)]\tLoss: 0.006666\n",
            "Train Epoch: 15 [12800/60000 (21%)]\tLoss: 0.011877\n",
            "Train Epoch: 15 [19200/60000 (32%)]\tLoss: 0.003215\n",
            "Train Epoch: 15 [25600/60000 (43%)]\tLoss: 0.038116\n",
            "Train Epoch: 15 [32000/60000 (53%)]\tLoss: 0.028430\n",
            "Train Epoch: 15 [38400/60000 (64%)]\tLoss: 0.001518\n",
            "Train Epoch: 15 [44800/60000 (75%)]\tLoss: 0.010465\n",
            "Train Epoch: 15 [51200/60000 (85%)]\tLoss: 0.003520\n",
            "Train Epoch: 15 [57600/60000 (96%)]\tLoss: 0.002707\n",
            "\n",
            "Test set: Average loss: 0.0007, Accuracy: 9860/10000 (98.60%)\n",
            "\n",
            "Train Epoch: 16 [0/60000 (0%)]\tLoss: 0.050858\n",
            "Train Epoch: 16 [6400/60000 (11%)]\tLoss: 0.007557\n",
            "Train Epoch: 16 [12800/60000 (21%)]\tLoss: 0.040866\n",
            "Train Epoch: 16 [19200/60000 (32%)]\tLoss: 0.013325\n",
            "Train Epoch: 16 [25600/60000 (43%)]\tLoss: 0.062467\n",
            "Train Epoch: 16 [32000/60000 (53%)]\tLoss: 0.002573\n",
            "Train Epoch: 16 [38400/60000 (64%)]\tLoss: 0.007368\n",
            "Train Epoch: 16 [44800/60000 (75%)]\tLoss: 0.008412\n",
            "Train Epoch: 16 [51200/60000 (85%)]\tLoss: 0.012449\n",
            "Train Epoch: 16 [57600/60000 (96%)]\tLoss: 0.003127\n",
            "\n",
            "Test set: Average loss: 0.0005, Accuracy: 9892/10000 (98.92%)\n",
            "\n",
            "Train Epoch: 17 [0/60000 (0%)]\tLoss: 0.019505\n",
            "Train Epoch: 17 [6400/60000 (11%)]\tLoss: 0.002591\n",
            "Train Epoch: 17 [12800/60000 (21%)]\tLoss: 0.010461\n",
            "Train Epoch: 17 [19200/60000 (32%)]\tLoss: 0.018328\n",
            "Train Epoch: 17 [25600/60000 (43%)]\tLoss: 0.003300\n",
            "Train Epoch: 17 [32000/60000 (53%)]\tLoss: 0.004618\n",
            "Train Epoch: 17 [38400/60000 (64%)]\tLoss: 0.008558\n",
            "Train Epoch: 17 [44800/60000 (75%)]\tLoss: 0.002082\n",
            "Train Epoch: 17 [51200/60000 (85%)]\tLoss: 0.029016\n",
            "Train Epoch: 17 [57600/60000 (96%)]\tLoss: 0.002061\n",
            "\n",
            "Test set: Average loss: 0.0006, Accuracy: 9886/10000 (98.86%)\n",
            "\n",
            "Train Epoch: 18 [0/60000 (0%)]\tLoss: 0.002641\n",
            "Train Epoch: 18 [6400/60000 (11%)]\tLoss: 0.004801\n",
            "Train Epoch: 18 [12800/60000 (21%)]\tLoss: 0.036943\n",
            "Train Epoch: 18 [19200/60000 (32%)]\tLoss: 0.000541\n",
            "Train Epoch: 18 [25600/60000 (43%)]\tLoss: 0.013459\n",
            "Train Epoch: 18 [32000/60000 (53%)]\tLoss: 0.093733\n",
            "Train Epoch: 18 [38400/60000 (64%)]\tLoss: 0.015648\n",
            "Train Epoch: 18 [44800/60000 (75%)]\tLoss: 0.001655\n",
            "Train Epoch: 18 [51200/60000 (85%)]\tLoss: 0.008239\n",
            "Train Epoch: 18 [57600/60000 (96%)]\tLoss: 0.012281\n",
            "\n",
            "Test set: Average loss: 0.0006, Accuracy: 9879/10000 (98.79%)\n",
            "\n",
            "Train Epoch: 19 [0/60000 (0%)]\tLoss: 0.003298\n",
            "Train Epoch: 19 [6400/60000 (11%)]\tLoss: 0.001852\n",
            "Train Epoch: 19 [12800/60000 (21%)]\tLoss: 0.003444\n",
            "Train Epoch: 19 [19200/60000 (32%)]\tLoss: 0.007700\n",
            "Train Epoch: 19 [25600/60000 (43%)]\tLoss: 0.011054\n",
            "Train Epoch: 19 [32000/60000 (53%)]\tLoss: 0.002158\n",
            "Train Epoch: 19 [38400/60000 (64%)]\tLoss: 0.001814\n",
            "Train Epoch: 19 [44800/60000 (75%)]\tLoss: 0.001920\n",
            "Train Epoch: 19 [51200/60000 (85%)]\tLoss: 0.424762\n",
            "Train Epoch: 19 [57600/60000 (96%)]\tLoss: 0.069949\n",
            "\n",
            "Test set: Average loss: 0.0005, Accuracy: 9901/10000 (99.01%)\n",
            "\n",
            "Train Epoch: 20 [0/60000 (0%)]\tLoss: 0.005942\n",
            "Train Epoch: 20 [6400/60000 (11%)]\tLoss: 0.012937\n",
            "Train Epoch: 20 [12800/60000 (21%)]\tLoss: 0.030962\n",
            "Train Epoch: 20 [19200/60000 (32%)]\tLoss: 0.004431\n",
            "Train Epoch: 20 [25600/60000 (43%)]\tLoss: 0.000841\n",
            "Train Epoch: 20 [32000/60000 (53%)]\tLoss: 0.025149\n",
            "Train Epoch: 20 [38400/60000 (64%)]\tLoss: 0.004311\n",
            "Train Epoch: 20 [44800/60000 (75%)]\tLoss: 0.004233\n",
            "Train Epoch: 20 [51200/60000 (85%)]\tLoss: 0.017350\n",
            "Train Epoch: 20 [57600/60000 (96%)]\tLoss: 0.025382\n",
            "\n",
            "Test set: Average loss: 0.0006, Accuracy: 9884/10000 (98.84%)\n",
            "\n",
            "Train Epoch: 21 [0/60000 (0%)]\tLoss: 0.006895\n",
            "Train Epoch: 21 [6400/60000 (11%)]\tLoss: 0.020573\n",
            "Train Epoch: 21 [12800/60000 (21%)]\tLoss: 0.052498\n",
            "Train Epoch: 21 [19200/60000 (32%)]\tLoss: 0.028750\n",
            "Train Epoch: 21 [25600/60000 (43%)]\tLoss: 0.001127\n",
            "Train Epoch: 21 [32000/60000 (53%)]\tLoss: 0.002336\n",
            "Train Epoch: 21 [38400/60000 (64%)]\tLoss: 0.040433\n",
            "Train Epoch: 21 [44800/60000 (75%)]\tLoss: 0.001155\n",
            "Train Epoch: 21 [51200/60000 (85%)]\tLoss: 0.002067\n",
            "Train Epoch: 21 [57600/60000 (96%)]\tLoss: 0.000455\n",
            "\n",
            "Test set: Average loss: 0.0007, Accuracy: 9860/10000 (98.60%)\n",
            "\n",
            "Train Epoch: 22 [0/60000 (0%)]\tLoss: 0.010295\n",
            "Train Epoch: 22 [6400/60000 (11%)]\tLoss: 0.098686\n",
            "Train Epoch: 22 [12800/60000 (21%)]\tLoss: 0.009677\n",
            "Train Epoch: 22 [19200/60000 (32%)]\tLoss: 0.063430\n",
            "Train Epoch: 22 [25600/60000 (43%)]\tLoss: 0.010931\n",
            "Train Epoch: 22 [32000/60000 (53%)]\tLoss: 0.001676\n",
            "Train Epoch: 22 [38400/60000 (64%)]\tLoss: 0.033506\n",
            "Train Epoch: 22 [44800/60000 (75%)]\tLoss: 0.015227\n",
            "Train Epoch: 22 [51200/60000 (85%)]\tLoss: 0.058758\n",
            "Train Epoch: 22 [57600/60000 (96%)]\tLoss: 0.008122\n",
            "\n",
            "Test set: Average loss: 0.0005, Accuracy: 9887/10000 (98.87%)\n",
            "\n",
            "Train Epoch: 23 [0/60000 (0%)]\tLoss: 0.016907\n",
            "Train Epoch: 23 [6400/60000 (11%)]\tLoss: 0.003774\n",
            "Train Epoch: 23 [12800/60000 (21%)]\tLoss: 0.001690\n",
            "Train Epoch: 23 [19200/60000 (32%)]\tLoss: 0.013635\n",
            "Train Epoch: 23 [25600/60000 (43%)]\tLoss: 0.007129\n",
            "Train Epoch: 23 [32000/60000 (53%)]\tLoss: 0.013436\n",
            "Train Epoch: 23 [38400/60000 (64%)]\tLoss: 0.019645\n",
            "Train Epoch: 23 [44800/60000 (75%)]\tLoss: 0.009776\n",
            "Train Epoch: 23 [51200/60000 (85%)]\tLoss: 0.002154\n",
            "Train Epoch: 23 [57600/60000 (96%)]\tLoss: 0.002882\n",
            "\n",
            "Test set: Average loss: 0.0005, Accuracy: 9882/10000 (98.82%)\n",
            "\n",
            "Train Epoch: 24 [0/60000 (0%)]\tLoss: 0.004181\n",
            "Train Epoch: 24 [6400/60000 (11%)]\tLoss: 0.003371\n",
            "Train Epoch: 24 [12800/60000 (21%)]\tLoss: 0.003915\n",
            "Train Epoch: 24 [19200/60000 (32%)]\tLoss: 0.002764\n",
            "Train Epoch: 24 [25600/60000 (43%)]\tLoss: 0.013863\n",
            "Train Epoch: 24 [32000/60000 (53%)]\tLoss: 0.134939\n",
            "Train Epoch: 24 [38400/60000 (64%)]\tLoss: 0.001939\n",
            "Train Epoch: 24 [44800/60000 (75%)]\tLoss: 0.011015\n",
            "Train Epoch: 24 [51200/60000 (85%)]\tLoss: 0.003573\n",
            "Train Epoch: 24 [57600/60000 (96%)]\tLoss: 0.023633\n",
            "\n",
            "Test set: Average loss: 0.0006, Accuracy: 9880/10000 (98.80%)\n",
            "\n",
            "Train Epoch: 25 [0/60000 (0%)]\tLoss: 0.002845\n",
            "Train Epoch: 25 [6400/60000 (11%)]\tLoss: 0.001466\n",
            "Train Epoch: 25 [12800/60000 (21%)]\tLoss: 0.029695\n",
            "Train Epoch: 25 [19200/60000 (32%)]\tLoss: 0.006160\n",
            "Train Epoch: 25 [25600/60000 (43%)]\tLoss: 0.002905\n",
            "Train Epoch: 25 [32000/60000 (53%)]\tLoss: 0.013364\n",
            "Train Epoch: 25 [38400/60000 (64%)]\tLoss: 0.002163\n",
            "Train Epoch: 25 [44800/60000 (75%)]\tLoss: 0.004975\n",
            "Train Epoch: 25 [51200/60000 (85%)]\tLoss: 0.050045\n",
            "Train Epoch: 25 [57600/60000 (96%)]\tLoss: 0.008158\n",
            "\n",
            "Test set: Average loss: 0.0005, Accuracy: 9897/10000 (98.97%)\n",
            "\n",
            "Train Epoch: 26 [0/60000 (0%)]\tLoss: 0.000379\n",
            "Train Epoch: 26 [6400/60000 (11%)]\tLoss: 0.007695\n",
            "Train Epoch: 26 [12800/60000 (21%)]\tLoss: 0.003831\n",
            "Train Epoch: 26 [19200/60000 (32%)]\tLoss: 0.006388\n",
            "Train Epoch: 26 [25600/60000 (43%)]\tLoss: 0.000531\n",
            "Train Epoch: 26 [32000/60000 (53%)]\tLoss: 0.054132\n",
            "Train Epoch: 26 [38400/60000 (64%)]\tLoss: 0.001638\n",
            "Train Epoch: 26 [44800/60000 (75%)]\tLoss: 0.007457\n",
            "Train Epoch: 26 [51200/60000 (85%)]\tLoss: 0.002152\n",
            "Train Epoch: 26 [57600/60000 (96%)]\tLoss: 0.003788\n",
            "\n",
            "Test set: Average loss: 0.0005, Accuracy: 9892/10000 (98.92%)\n",
            "\n",
            "Train Epoch: 27 [0/60000 (0%)]\tLoss: 0.000607\n",
            "Train Epoch: 27 [6400/60000 (11%)]\tLoss: 0.018368\n",
            "Train Epoch: 27 [12800/60000 (21%)]\tLoss: 0.003450\n",
            "Train Epoch: 27 [19200/60000 (32%)]\tLoss: 0.001870\n",
            "Train Epoch: 27 [25600/60000 (43%)]\tLoss: 0.011407\n",
            "Train Epoch: 27 [32000/60000 (53%)]\tLoss: 0.041550\n",
            "Train Epoch: 27 [38400/60000 (64%)]\tLoss: 0.003905\n",
            "Train Epoch: 27 [44800/60000 (75%)]\tLoss: 0.002684\n",
            "Train Epoch: 27 [51200/60000 (85%)]\tLoss: 0.047602\n",
            "Train Epoch: 27 [57600/60000 (96%)]\tLoss: 0.011234\n",
            "\n",
            "Test set: Average loss: 0.0006, Accuracy: 9883/10000 (98.83%)\n",
            "\n",
            "Train Epoch: 28 [0/60000 (0%)]\tLoss: 0.001058\n",
            "Train Epoch: 28 [6400/60000 (11%)]\tLoss: 0.005464\n",
            "Train Epoch: 28 [12800/60000 (21%)]\tLoss: 0.078938\n",
            "Train Epoch: 28 [19200/60000 (32%)]\tLoss: 0.000926\n",
            "Train Epoch: 28 [25600/60000 (43%)]\tLoss: 0.001038\n",
            "Train Epoch: 28 [32000/60000 (53%)]\tLoss: 0.009758\n",
            "Train Epoch: 28 [38400/60000 (64%)]\tLoss: 0.000844\n",
            "Train Epoch: 28 [44800/60000 (75%)]\tLoss: 0.003372\n",
            "Train Epoch: 28 [51200/60000 (85%)]\tLoss: 0.005191\n",
            "Train Epoch: 28 [57600/60000 (96%)]\tLoss: 0.004888\n",
            "\n",
            "Test set: Average loss: 0.0006, Accuracy: 9890/10000 (98.90%)\n",
            "\n",
            "Train Epoch: 29 [0/60000 (0%)]\tLoss: 0.037799\n",
            "Train Epoch: 29 [6400/60000 (11%)]\tLoss: 0.004842\n",
            "Train Epoch: 29 [12800/60000 (21%)]\tLoss: 0.001949\n",
            "Train Epoch: 29 [19200/60000 (32%)]\tLoss: 0.004174\n",
            "Train Epoch: 29 [25600/60000 (43%)]\tLoss: 0.023480\n",
            "Train Epoch: 29 [32000/60000 (53%)]\tLoss: 0.003157\n",
            "Train Epoch: 29 [38400/60000 (64%)]\tLoss: 0.005415\n",
            "Train Epoch: 29 [44800/60000 (75%)]\tLoss: 0.097549\n",
            "Train Epoch: 29 [51200/60000 (85%)]\tLoss: 0.031680\n",
            "Train Epoch: 29 [57600/60000 (96%)]\tLoss: 0.003363\n",
            "\n",
            "Test set: Average loss: 0.0006, Accuracy: 9888/10000 (98.88%)\n",
            "\n",
            "Train Epoch: 30 [0/60000 (0%)]\tLoss: 0.002876\n",
            "Train Epoch: 30 [6400/60000 (11%)]\tLoss: 0.000960\n",
            "Train Epoch: 30 [12800/60000 (21%)]\tLoss: 0.008474\n",
            "Train Epoch: 30 [19200/60000 (32%)]\tLoss: 0.000334\n",
            "Train Epoch: 30 [25600/60000 (43%)]\tLoss: 0.010321\n",
            "Train Epoch: 30 [32000/60000 (53%)]\tLoss: 0.000263\n",
            "Train Epoch: 30 [38400/60000 (64%)]\tLoss: 0.018883\n",
            "Train Epoch: 30 [44800/60000 (75%)]\tLoss: 0.006883\n",
            "Train Epoch: 30 [51200/60000 (85%)]\tLoss: 0.020641\n",
            "Train Epoch: 30 [57600/60000 (96%)]\tLoss: 0.002463\n",
            "\n",
            "Test set: Average loss: 0.0006, Accuracy: 9880/10000 (98.80%)\n",
            "\n",
            "Train Epoch: 31 [0/60000 (0%)]\tLoss: 0.000923\n",
            "Train Epoch: 31 [6400/60000 (11%)]\tLoss: 0.006458\n",
            "Train Epoch: 31 [12800/60000 (21%)]\tLoss: 0.019986\n",
            "Train Epoch: 31 [19200/60000 (32%)]\tLoss: 0.027982\n",
            "Train Epoch: 31 [25600/60000 (43%)]\tLoss: 0.018002\n",
            "Train Epoch: 31 [32000/60000 (53%)]\tLoss: 0.004202\n",
            "Train Epoch: 31 [38400/60000 (64%)]\tLoss: 0.000962\n",
            "Train Epoch: 31 [44800/60000 (75%)]\tLoss: 0.004635\n",
            "Train Epoch: 31 [51200/60000 (85%)]\tLoss: 0.001078\n",
            "Train Epoch: 31 [57600/60000 (96%)]\tLoss: 0.002105\n",
            "\n",
            "Test set: Average loss: 0.0007, Accuracy: 9881/10000 (98.81%)\n",
            "\n",
            "Train Epoch: 32 [0/60000 (0%)]\tLoss: 0.001191\n",
            "Train Epoch: 32 [6400/60000 (11%)]\tLoss: 0.000394\n",
            "Train Epoch: 32 [12800/60000 (21%)]\tLoss: 0.003441\n",
            "Train Epoch: 32 [19200/60000 (32%)]\tLoss: 0.084434\n",
            "Train Epoch: 32 [25600/60000 (43%)]\tLoss: 0.012098\n",
            "Train Epoch: 32 [32000/60000 (53%)]\tLoss: 0.046512\n",
            "Train Epoch: 32 [38400/60000 (64%)]\tLoss: 0.016207\n",
            "Train Epoch: 32 [44800/60000 (75%)]\tLoss: 0.034360\n",
            "Train Epoch: 32 [51200/60000 (85%)]\tLoss: 0.002551\n",
            "Train Epoch: 32 [57600/60000 (96%)]\tLoss: 0.002535\n",
            "\n",
            "Test set: Average loss: 0.0007, Accuracy: 9876/10000 (98.76%)\n",
            "\n"
          ]
        }
      ],
      "source": [
        "for epoch in range(32):\n",
        "    train(epoch + 1)\n",
        "    test()"
      ]
    },
    {
      "cell_type": "code",
      "execution_count": null,
      "metadata": {
        "id": "3Nfl3_5eLLBt"
      },
      "outputs": [],
      "source": [
        "def print_confusion_matrix(loader):\n",
        "    model.eval()\n",
        "\n",
        "    confusion_matrix = torch.zeros(10, 10, dtype=torch.int)\n",
        "    for data, target in loader:\n",
        "        output = model(data)\n",
        "        _, preds = torch.max(output, 1)\n",
        "        for t, p in zip(target.view(-1), preds.view(-1)):\n",
        "                confusion_matrix[t.long(), p.long()] += 1\n",
        "    print(confusion_matrix)\n",
        "    accuracy = confusion_matrix.diagonal().sum()/confusion_matrix.sum()\n",
        "    print(f\"Accuracy = {100*accuracy:.2f}%\")\n",
        "    "
      ]
    },
    {
      "cell_type": "code",
      "execution_count": null,
      "metadata": {
        "colab": {
          "base_uri": "https://localhost:8080/"
        },
        "id": "8gMUI49yLLBt",
        "outputId": "1dfa878b-8a33-4514-d294-bf0a47cafd22"
      },
      "outputs": [
        {
          "output_type": "stream",
          "name": "stdout",
          "text": [
            "tensor([[ 978,    0,    0,    0,    0,    0,    1,    0,    1,    0],\n",
            "        [   1, 1126,    0,    2,    0,    2,    0,    0,    4,    0],\n",
            "        [   1,    0, 1028,    0,    1,    0,    0,    0,    2,    0],\n",
            "        [   0,    0,    3,  999,    0,    4,    0,    0,    3,    1],\n",
            "        [   0,    0,    0,    0,  976,    0,    0,    0,    2,    4],\n",
            "        [   1,    0,    0,    6,    0,  881,    1,    0,    3,    0],\n",
            "        [   3,    1,    0,    1,    2,    2,  947,    0,    2,    0],\n",
            "        [   0,    4,   12,    2,    0,    1,    0,  998,    5,    6],\n",
            "        [   2,    0,    3,    1,    0,    2,    0,    2,  963,    1],\n",
            "        [   1,    0,    2,    1,    6,    5,    0,    4,   10,  980]],\n",
            "       dtype=torch.int32)\n",
            "Accuracy = 98.76%\n"
          ]
        }
      ],
      "source": [
        "print_confusion_matrix(test_loader)"
      ]
    },
    {
      "cell_type": "code",
      "execution_count": null,
      "metadata": {
        "id": "cS_0A2sFLLBt"
      },
      "outputs": [],
      "source": []
    },
    {
      "cell_type": "code",
      "execution_count": null,
      "metadata": {
        "id": "0tMRwwHTLLBt"
      },
      "outputs": [],
      "source": []
    },
    {
      "cell_type": "code",
      "execution_count": null,
      "metadata": {
        "id": "dfZiJGsbLLBu"
      },
      "outputs": [],
      "source": []
    }
  ],
  "metadata": {
    "colab": {
      "provenance": []
    },
    "kernelspec": {
      "display_name": "Python 3",
      "language": "python",
      "name": "python3"
    },
    "language_info": {
      "codemirror_mode": {
        "name": "ipython",
        "version": 3
      },
      "file_extension": ".py",
      "mimetype": "text/x-python",
      "name": "python",
      "nbconvert_exporter": "python",
      "pygments_lexer": "ipython3",
      "version": "3.8.8"
    },
    "widgets": {
      "application/vnd.jupyter.widget-state+json": {
        "08b35c078a9f4541859920cf655315a2": {
          "model_module": "@jupyter-widgets/controls",
          "model_name": "HBoxModel",
          "model_module_version": "1.5.0",
          "state": {
            "_dom_classes": [],
            "_model_module": "@jupyter-widgets/controls",
            "_model_module_version": "1.5.0",
            "_model_name": "HBoxModel",
            "_view_count": null,
            "_view_module": "@jupyter-widgets/controls",
            "_view_module_version": "1.5.0",
            "_view_name": "HBoxView",
            "box_style": "",
            "children": [
              "IPY_MODEL_93fe48bbaebd42f381f17d17e128ab2c",
              "IPY_MODEL_8df6e470f2a841148a8d8d1c2717d939",
              "IPY_MODEL_2a6807b802754166aa7be8abc2b6776b"
            ],
            "layout": "IPY_MODEL_b6d7e6c94d6d4def9258aa9a888b5455"
          }
        },
        "93fe48bbaebd42f381f17d17e128ab2c": {
          "model_module": "@jupyter-widgets/controls",
          "model_name": "HTMLModel",
          "model_module_version": "1.5.0",
          "state": {
            "_dom_classes": [],
            "_model_module": "@jupyter-widgets/controls",
            "_model_module_version": "1.5.0",
            "_model_name": "HTMLModel",
            "_view_count": null,
            "_view_module": "@jupyter-widgets/controls",
            "_view_module_version": "1.5.0",
            "_view_name": "HTMLView",
            "description": "",
            "description_tooltip": null,
            "layout": "IPY_MODEL_e654452f55034c2fa8617004149b9f9b",
            "placeholder": "​",
            "style": "IPY_MODEL_5a71df3734a4412fb840b62fd745fc72",
            "value": "100%"
          }
        },
        "8df6e470f2a841148a8d8d1c2717d939": {
          "model_module": "@jupyter-widgets/controls",
          "model_name": "FloatProgressModel",
          "model_module_version": "1.5.0",
          "state": {
            "_dom_classes": [],
            "_model_module": "@jupyter-widgets/controls",
            "_model_module_version": "1.5.0",
            "_model_name": "FloatProgressModel",
            "_view_count": null,
            "_view_module": "@jupyter-widgets/controls",
            "_view_module_version": "1.5.0",
            "_view_name": "ProgressView",
            "bar_style": "success",
            "description": "",
            "description_tooltip": null,
            "layout": "IPY_MODEL_f1a13ed3314e45ae81daa34ea546b6bc",
            "max": 9912422,
            "min": 0,
            "orientation": "horizontal",
            "style": "IPY_MODEL_30afbdb34bc14873abd9ca4747cd2218",
            "value": 9912422
          }
        },
        "2a6807b802754166aa7be8abc2b6776b": {
          "model_module": "@jupyter-widgets/controls",
          "model_name": "HTMLModel",
          "model_module_version": "1.5.0",
          "state": {
            "_dom_classes": [],
            "_model_module": "@jupyter-widgets/controls",
            "_model_module_version": "1.5.0",
            "_model_name": "HTMLModel",
            "_view_count": null,
            "_view_module": "@jupyter-widgets/controls",
            "_view_module_version": "1.5.0",
            "_view_name": "HTMLView",
            "description": "",
            "description_tooltip": null,
            "layout": "IPY_MODEL_adee4cb40eb74ad7a871b3183c279672",
            "placeholder": "​",
            "style": "IPY_MODEL_fec85a80d6104a4785c1d994730c2f3c",
            "value": " 9912422/9912422 [00:00&lt;00:00, 21842511.97it/s]"
          }
        },
        "b6d7e6c94d6d4def9258aa9a888b5455": {
          "model_module": "@jupyter-widgets/base",
          "model_name": "LayoutModel",
          "model_module_version": "1.2.0",
          "state": {
            "_model_module": "@jupyter-widgets/base",
            "_model_module_version": "1.2.0",
            "_model_name": "LayoutModel",
            "_view_count": null,
            "_view_module": "@jupyter-widgets/base",
            "_view_module_version": "1.2.0",
            "_view_name": "LayoutView",
            "align_content": null,
            "align_items": null,
            "align_self": null,
            "border": null,
            "bottom": null,
            "display": null,
            "flex": null,
            "flex_flow": null,
            "grid_area": null,
            "grid_auto_columns": null,
            "grid_auto_flow": null,
            "grid_auto_rows": null,
            "grid_column": null,
            "grid_gap": null,
            "grid_row": null,
            "grid_template_areas": null,
            "grid_template_columns": null,
            "grid_template_rows": null,
            "height": null,
            "justify_content": null,
            "justify_items": null,
            "left": null,
            "margin": null,
            "max_height": null,
            "max_width": null,
            "min_height": null,
            "min_width": null,
            "object_fit": null,
            "object_position": null,
            "order": null,
            "overflow": null,
            "overflow_x": null,
            "overflow_y": null,
            "padding": null,
            "right": null,
            "top": null,
            "visibility": null,
            "width": null
          }
        },
        "e654452f55034c2fa8617004149b9f9b": {
          "model_module": "@jupyter-widgets/base",
          "model_name": "LayoutModel",
          "model_module_version": "1.2.0",
          "state": {
            "_model_module": "@jupyter-widgets/base",
            "_model_module_version": "1.2.0",
            "_model_name": "LayoutModel",
            "_view_count": null,
            "_view_module": "@jupyter-widgets/base",
            "_view_module_version": "1.2.0",
            "_view_name": "LayoutView",
            "align_content": null,
            "align_items": null,
            "align_self": null,
            "border": null,
            "bottom": null,
            "display": null,
            "flex": null,
            "flex_flow": null,
            "grid_area": null,
            "grid_auto_columns": null,
            "grid_auto_flow": null,
            "grid_auto_rows": null,
            "grid_column": null,
            "grid_gap": null,
            "grid_row": null,
            "grid_template_areas": null,
            "grid_template_columns": null,
            "grid_template_rows": null,
            "height": null,
            "justify_content": null,
            "justify_items": null,
            "left": null,
            "margin": null,
            "max_height": null,
            "max_width": null,
            "min_height": null,
            "min_width": null,
            "object_fit": null,
            "object_position": null,
            "order": null,
            "overflow": null,
            "overflow_x": null,
            "overflow_y": null,
            "padding": null,
            "right": null,
            "top": null,
            "visibility": null,
            "width": null
          }
        },
        "5a71df3734a4412fb840b62fd745fc72": {
          "model_module": "@jupyter-widgets/controls",
          "model_name": "DescriptionStyleModel",
          "model_module_version": "1.5.0",
          "state": {
            "_model_module": "@jupyter-widgets/controls",
            "_model_module_version": "1.5.0",
            "_model_name": "DescriptionStyleModel",
            "_view_count": null,
            "_view_module": "@jupyter-widgets/base",
            "_view_module_version": "1.2.0",
            "_view_name": "StyleView",
            "description_width": ""
          }
        },
        "f1a13ed3314e45ae81daa34ea546b6bc": {
          "model_module": "@jupyter-widgets/base",
          "model_name": "LayoutModel",
          "model_module_version": "1.2.0",
          "state": {
            "_model_module": "@jupyter-widgets/base",
            "_model_module_version": "1.2.0",
            "_model_name": "LayoutModel",
            "_view_count": null,
            "_view_module": "@jupyter-widgets/base",
            "_view_module_version": "1.2.0",
            "_view_name": "LayoutView",
            "align_content": null,
            "align_items": null,
            "align_self": null,
            "border": null,
            "bottom": null,
            "display": null,
            "flex": null,
            "flex_flow": null,
            "grid_area": null,
            "grid_auto_columns": null,
            "grid_auto_flow": null,
            "grid_auto_rows": null,
            "grid_column": null,
            "grid_gap": null,
            "grid_row": null,
            "grid_template_areas": null,
            "grid_template_columns": null,
            "grid_template_rows": null,
            "height": null,
            "justify_content": null,
            "justify_items": null,
            "left": null,
            "margin": null,
            "max_height": null,
            "max_width": null,
            "min_height": null,
            "min_width": null,
            "object_fit": null,
            "object_position": null,
            "order": null,
            "overflow": null,
            "overflow_x": null,
            "overflow_y": null,
            "padding": null,
            "right": null,
            "top": null,
            "visibility": null,
            "width": null
          }
        },
        "30afbdb34bc14873abd9ca4747cd2218": {
          "model_module": "@jupyter-widgets/controls",
          "model_name": "ProgressStyleModel",
          "model_module_version": "1.5.0",
          "state": {
            "_model_module": "@jupyter-widgets/controls",
            "_model_module_version": "1.5.0",
            "_model_name": "ProgressStyleModel",
            "_view_count": null,
            "_view_module": "@jupyter-widgets/base",
            "_view_module_version": "1.2.0",
            "_view_name": "StyleView",
            "bar_color": null,
            "description_width": ""
          }
        },
        "adee4cb40eb74ad7a871b3183c279672": {
          "model_module": "@jupyter-widgets/base",
          "model_name": "LayoutModel",
          "model_module_version": "1.2.0",
          "state": {
            "_model_module": "@jupyter-widgets/base",
            "_model_module_version": "1.2.0",
            "_model_name": "LayoutModel",
            "_view_count": null,
            "_view_module": "@jupyter-widgets/base",
            "_view_module_version": "1.2.0",
            "_view_name": "LayoutView",
            "align_content": null,
            "align_items": null,
            "align_self": null,
            "border": null,
            "bottom": null,
            "display": null,
            "flex": null,
            "flex_flow": null,
            "grid_area": null,
            "grid_auto_columns": null,
            "grid_auto_flow": null,
            "grid_auto_rows": null,
            "grid_column": null,
            "grid_gap": null,
            "grid_row": null,
            "grid_template_areas": null,
            "grid_template_columns": null,
            "grid_template_rows": null,
            "height": null,
            "justify_content": null,
            "justify_items": null,
            "left": null,
            "margin": null,
            "max_height": null,
            "max_width": null,
            "min_height": null,
            "min_width": null,
            "object_fit": null,
            "object_position": null,
            "order": null,
            "overflow": null,
            "overflow_x": null,
            "overflow_y": null,
            "padding": null,
            "right": null,
            "top": null,
            "visibility": null,
            "width": null
          }
        },
        "fec85a80d6104a4785c1d994730c2f3c": {
          "model_module": "@jupyter-widgets/controls",
          "model_name": "DescriptionStyleModel",
          "model_module_version": "1.5.0",
          "state": {
            "_model_module": "@jupyter-widgets/controls",
            "_model_module_version": "1.5.0",
            "_model_name": "DescriptionStyleModel",
            "_view_count": null,
            "_view_module": "@jupyter-widgets/base",
            "_view_module_version": "1.2.0",
            "_view_name": "StyleView",
            "description_width": ""
          }
        },
        "76934700a7264d6b92ffcb4209bde155": {
          "model_module": "@jupyter-widgets/controls",
          "model_name": "HBoxModel",
          "model_module_version": "1.5.0",
          "state": {
            "_dom_classes": [],
            "_model_module": "@jupyter-widgets/controls",
            "_model_module_version": "1.5.0",
            "_model_name": "HBoxModel",
            "_view_count": null,
            "_view_module": "@jupyter-widgets/controls",
            "_view_module_version": "1.5.0",
            "_view_name": "HBoxView",
            "box_style": "",
            "children": [
              "IPY_MODEL_8b1437d20d49419fadb9f3b48953e13a",
              "IPY_MODEL_88c59a7ab1df483b9135f8351cefc4d5",
              "IPY_MODEL_d7f0e0c49a2b4e38ba864e54ffe29429"
            ],
            "layout": "IPY_MODEL_857d0b333a3f43c8b83eba52e22a226c"
          }
        },
        "8b1437d20d49419fadb9f3b48953e13a": {
          "model_module": "@jupyter-widgets/controls",
          "model_name": "HTMLModel",
          "model_module_version": "1.5.0",
          "state": {
            "_dom_classes": [],
            "_model_module": "@jupyter-widgets/controls",
            "_model_module_version": "1.5.0",
            "_model_name": "HTMLModel",
            "_view_count": null,
            "_view_module": "@jupyter-widgets/controls",
            "_view_module_version": "1.5.0",
            "_view_name": "HTMLView",
            "description": "",
            "description_tooltip": null,
            "layout": "IPY_MODEL_e4c9d5c74fa040268b63245d0d57cc12",
            "placeholder": "​",
            "style": "IPY_MODEL_f69e9cb8470c4636b0df394f2261bac2",
            "value": "100%"
          }
        },
        "88c59a7ab1df483b9135f8351cefc4d5": {
          "model_module": "@jupyter-widgets/controls",
          "model_name": "FloatProgressModel",
          "model_module_version": "1.5.0",
          "state": {
            "_dom_classes": [],
            "_model_module": "@jupyter-widgets/controls",
            "_model_module_version": "1.5.0",
            "_model_name": "FloatProgressModel",
            "_view_count": null,
            "_view_module": "@jupyter-widgets/controls",
            "_view_module_version": "1.5.0",
            "_view_name": "ProgressView",
            "bar_style": "success",
            "description": "",
            "description_tooltip": null,
            "layout": "IPY_MODEL_cd9b2e202e284068a4ac5e3d26c90cf0",
            "max": 28881,
            "min": 0,
            "orientation": "horizontal",
            "style": "IPY_MODEL_9f84aca88086401c9893efe17f0ba46e",
            "value": 28881
          }
        },
        "d7f0e0c49a2b4e38ba864e54ffe29429": {
          "model_module": "@jupyter-widgets/controls",
          "model_name": "HTMLModel",
          "model_module_version": "1.5.0",
          "state": {
            "_dom_classes": [],
            "_model_module": "@jupyter-widgets/controls",
            "_model_module_version": "1.5.0",
            "_model_name": "HTMLModel",
            "_view_count": null,
            "_view_module": "@jupyter-widgets/controls",
            "_view_module_version": "1.5.0",
            "_view_name": "HTMLView",
            "description": "",
            "description_tooltip": null,
            "layout": "IPY_MODEL_76e0086f36eb4e2faa4565e387d53a9a",
            "placeholder": "​",
            "style": "IPY_MODEL_22f8a01257634dd786241282538a6b6c",
            "value": " 28881/28881 [00:00&lt;00:00, 964817.20it/s]"
          }
        },
        "857d0b333a3f43c8b83eba52e22a226c": {
          "model_module": "@jupyter-widgets/base",
          "model_name": "LayoutModel",
          "model_module_version": "1.2.0",
          "state": {
            "_model_module": "@jupyter-widgets/base",
            "_model_module_version": "1.2.0",
            "_model_name": "LayoutModel",
            "_view_count": null,
            "_view_module": "@jupyter-widgets/base",
            "_view_module_version": "1.2.0",
            "_view_name": "LayoutView",
            "align_content": null,
            "align_items": null,
            "align_self": null,
            "border": null,
            "bottom": null,
            "display": null,
            "flex": null,
            "flex_flow": null,
            "grid_area": null,
            "grid_auto_columns": null,
            "grid_auto_flow": null,
            "grid_auto_rows": null,
            "grid_column": null,
            "grid_gap": null,
            "grid_row": null,
            "grid_template_areas": null,
            "grid_template_columns": null,
            "grid_template_rows": null,
            "height": null,
            "justify_content": null,
            "justify_items": null,
            "left": null,
            "margin": null,
            "max_height": null,
            "max_width": null,
            "min_height": null,
            "min_width": null,
            "object_fit": null,
            "object_position": null,
            "order": null,
            "overflow": null,
            "overflow_x": null,
            "overflow_y": null,
            "padding": null,
            "right": null,
            "top": null,
            "visibility": null,
            "width": null
          }
        },
        "e4c9d5c74fa040268b63245d0d57cc12": {
          "model_module": "@jupyter-widgets/base",
          "model_name": "LayoutModel",
          "model_module_version": "1.2.0",
          "state": {
            "_model_module": "@jupyter-widgets/base",
            "_model_module_version": "1.2.0",
            "_model_name": "LayoutModel",
            "_view_count": null,
            "_view_module": "@jupyter-widgets/base",
            "_view_module_version": "1.2.0",
            "_view_name": "LayoutView",
            "align_content": null,
            "align_items": null,
            "align_self": null,
            "border": null,
            "bottom": null,
            "display": null,
            "flex": null,
            "flex_flow": null,
            "grid_area": null,
            "grid_auto_columns": null,
            "grid_auto_flow": null,
            "grid_auto_rows": null,
            "grid_column": null,
            "grid_gap": null,
            "grid_row": null,
            "grid_template_areas": null,
            "grid_template_columns": null,
            "grid_template_rows": null,
            "height": null,
            "justify_content": null,
            "justify_items": null,
            "left": null,
            "margin": null,
            "max_height": null,
            "max_width": null,
            "min_height": null,
            "min_width": null,
            "object_fit": null,
            "object_position": null,
            "order": null,
            "overflow": null,
            "overflow_x": null,
            "overflow_y": null,
            "padding": null,
            "right": null,
            "top": null,
            "visibility": null,
            "width": null
          }
        },
        "f69e9cb8470c4636b0df394f2261bac2": {
          "model_module": "@jupyter-widgets/controls",
          "model_name": "DescriptionStyleModel",
          "model_module_version": "1.5.0",
          "state": {
            "_model_module": "@jupyter-widgets/controls",
            "_model_module_version": "1.5.0",
            "_model_name": "DescriptionStyleModel",
            "_view_count": null,
            "_view_module": "@jupyter-widgets/base",
            "_view_module_version": "1.2.0",
            "_view_name": "StyleView",
            "description_width": ""
          }
        },
        "cd9b2e202e284068a4ac5e3d26c90cf0": {
          "model_module": "@jupyter-widgets/base",
          "model_name": "LayoutModel",
          "model_module_version": "1.2.0",
          "state": {
            "_model_module": "@jupyter-widgets/base",
            "_model_module_version": "1.2.0",
            "_model_name": "LayoutModel",
            "_view_count": null,
            "_view_module": "@jupyter-widgets/base",
            "_view_module_version": "1.2.0",
            "_view_name": "LayoutView",
            "align_content": null,
            "align_items": null,
            "align_self": null,
            "border": null,
            "bottom": null,
            "display": null,
            "flex": null,
            "flex_flow": null,
            "grid_area": null,
            "grid_auto_columns": null,
            "grid_auto_flow": null,
            "grid_auto_rows": null,
            "grid_column": null,
            "grid_gap": null,
            "grid_row": null,
            "grid_template_areas": null,
            "grid_template_columns": null,
            "grid_template_rows": null,
            "height": null,
            "justify_content": null,
            "justify_items": null,
            "left": null,
            "margin": null,
            "max_height": null,
            "max_width": null,
            "min_height": null,
            "min_width": null,
            "object_fit": null,
            "object_position": null,
            "order": null,
            "overflow": null,
            "overflow_x": null,
            "overflow_y": null,
            "padding": null,
            "right": null,
            "top": null,
            "visibility": null,
            "width": null
          }
        },
        "9f84aca88086401c9893efe17f0ba46e": {
          "model_module": "@jupyter-widgets/controls",
          "model_name": "ProgressStyleModel",
          "model_module_version": "1.5.0",
          "state": {
            "_model_module": "@jupyter-widgets/controls",
            "_model_module_version": "1.5.0",
            "_model_name": "ProgressStyleModel",
            "_view_count": null,
            "_view_module": "@jupyter-widgets/base",
            "_view_module_version": "1.2.0",
            "_view_name": "StyleView",
            "bar_color": null,
            "description_width": ""
          }
        },
        "76e0086f36eb4e2faa4565e387d53a9a": {
          "model_module": "@jupyter-widgets/base",
          "model_name": "LayoutModel",
          "model_module_version": "1.2.0",
          "state": {
            "_model_module": "@jupyter-widgets/base",
            "_model_module_version": "1.2.0",
            "_model_name": "LayoutModel",
            "_view_count": null,
            "_view_module": "@jupyter-widgets/base",
            "_view_module_version": "1.2.0",
            "_view_name": "LayoutView",
            "align_content": null,
            "align_items": null,
            "align_self": null,
            "border": null,
            "bottom": null,
            "display": null,
            "flex": null,
            "flex_flow": null,
            "grid_area": null,
            "grid_auto_columns": null,
            "grid_auto_flow": null,
            "grid_auto_rows": null,
            "grid_column": null,
            "grid_gap": null,
            "grid_row": null,
            "grid_template_areas": null,
            "grid_template_columns": null,
            "grid_template_rows": null,
            "height": null,
            "justify_content": null,
            "justify_items": null,
            "left": null,
            "margin": null,
            "max_height": null,
            "max_width": null,
            "min_height": null,
            "min_width": null,
            "object_fit": null,
            "object_position": null,
            "order": null,
            "overflow": null,
            "overflow_x": null,
            "overflow_y": null,
            "padding": null,
            "right": null,
            "top": null,
            "visibility": null,
            "width": null
          }
        },
        "22f8a01257634dd786241282538a6b6c": {
          "model_module": "@jupyter-widgets/controls",
          "model_name": "DescriptionStyleModel",
          "model_module_version": "1.5.0",
          "state": {
            "_model_module": "@jupyter-widgets/controls",
            "_model_module_version": "1.5.0",
            "_model_name": "DescriptionStyleModel",
            "_view_count": null,
            "_view_module": "@jupyter-widgets/base",
            "_view_module_version": "1.2.0",
            "_view_name": "StyleView",
            "description_width": ""
          }
        },
        "13bfbf34865546138651141bc21e7cf9": {
          "model_module": "@jupyter-widgets/controls",
          "model_name": "HBoxModel",
          "model_module_version": "1.5.0",
          "state": {
            "_dom_classes": [],
            "_model_module": "@jupyter-widgets/controls",
            "_model_module_version": "1.5.0",
            "_model_name": "HBoxModel",
            "_view_count": null,
            "_view_module": "@jupyter-widgets/controls",
            "_view_module_version": "1.5.0",
            "_view_name": "HBoxView",
            "box_style": "",
            "children": [
              "IPY_MODEL_87e5f41e23324f58a8a4ec7c95e4571e",
              "IPY_MODEL_22d681de31284f53a562ef6cb9dd82e3",
              "IPY_MODEL_22ba6cf299e64cb790de6b00b7d02185"
            ],
            "layout": "IPY_MODEL_2d1e3efda29940aa8775a29deecbe093"
          }
        },
        "87e5f41e23324f58a8a4ec7c95e4571e": {
          "model_module": "@jupyter-widgets/controls",
          "model_name": "HTMLModel",
          "model_module_version": "1.5.0",
          "state": {
            "_dom_classes": [],
            "_model_module": "@jupyter-widgets/controls",
            "_model_module_version": "1.5.0",
            "_model_name": "HTMLModel",
            "_view_count": null,
            "_view_module": "@jupyter-widgets/controls",
            "_view_module_version": "1.5.0",
            "_view_name": "HTMLView",
            "description": "",
            "description_tooltip": null,
            "layout": "IPY_MODEL_7982f367899744b09b2741a59e7dca4d",
            "placeholder": "​",
            "style": "IPY_MODEL_193b6e8bd05e43a393f784d5e47a3497",
            "value": "100%"
          }
        },
        "22d681de31284f53a562ef6cb9dd82e3": {
          "model_module": "@jupyter-widgets/controls",
          "model_name": "FloatProgressModel",
          "model_module_version": "1.5.0",
          "state": {
            "_dom_classes": [],
            "_model_module": "@jupyter-widgets/controls",
            "_model_module_version": "1.5.0",
            "_model_name": "FloatProgressModel",
            "_view_count": null,
            "_view_module": "@jupyter-widgets/controls",
            "_view_module_version": "1.5.0",
            "_view_name": "ProgressView",
            "bar_style": "success",
            "description": "",
            "description_tooltip": null,
            "layout": "IPY_MODEL_8daa0fcf52384137afec4b868bb0c4ed",
            "max": 1648877,
            "min": 0,
            "orientation": "horizontal",
            "style": "IPY_MODEL_5d2919edfc7e47d69375d045b6fc6edf",
            "value": 1648877
          }
        },
        "22ba6cf299e64cb790de6b00b7d02185": {
          "model_module": "@jupyter-widgets/controls",
          "model_name": "HTMLModel",
          "model_module_version": "1.5.0",
          "state": {
            "_dom_classes": [],
            "_model_module": "@jupyter-widgets/controls",
            "_model_module_version": "1.5.0",
            "_model_name": "HTMLModel",
            "_view_count": null,
            "_view_module": "@jupyter-widgets/controls",
            "_view_module_version": "1.5.0",
            "_view_name": "HTMLView",
            "description": "",
            "description_tooltip": null,
            "layout": "IPY_MODEL_ecb2c2a86fa14de290d347ba45027b66",
            "placeholder": "​",
            "style": "IPY_MODEL_78de1068e2fd42d0805698ec6f3960d6",
            "value": " 1648877/1648877 [00:00&lt;00:00, 10792299.54it/s]"
          }
        },
        "2d1e3efda29940aa8775a29deecbe093": {
          "model_module": "@jupyter-widgets/base",
          "model_name": "LayoutModel",
          "model_module_version": "1.2.0",
          "state": {
            "_model_module": "@jupyter-widgets/base",
            "_model_module_version": "1.2.0",
            "_model_name": "LayoutModel",
            "_view_count": null,
            "_view_module": "@jupyter-widgets/base",
            "_view_module_version": "1.2.0",
            "_view_name": "LayoutView",
            "align_content": null,
            "align_items": null,
            "align_self": null,
            "border": null,
            "bottom": null,
            "display": null,
            "flex": null,
            "flex_flow": null,
            "grid_area": null,
            "grid_auto_columns": null,
            "grid_auto_flow": null,
            "grid_auto_rows": null,
            "grid_column": null,
            "grid_gap": null,
            "grid_row": null,
            "grid_template_areas": null,
            "grid_template_columns": null,
            "grid_template_rows": null,
            "height": null,
            "justify_content": null,
            "justify_items": null,
            "left": null,
            "margin": null,
            "max_height": null,
            "max_width": null,
            "min_height": null,
            "min_width": null,
            "object_fit": null,
            "object_position": null,
            "order": null,
            "overflow": null,
            "overflow_x": null,
            "overflow_y": null,
            "padding": null,
            "right": null,
            "top": null,
            "visibility": null,
            "width": null
          }
        },
        "7982f367899744b09b2741a59e7dca4d": {
          "model_module": "@jupyter-widgets/base",
          "model_name": "LayoutModel",
          "model_module_version": "1.2.0",
          "state": {
            "_model_module": "@jupyter-widgets/base",
            "_model_module_version": "1.2.0",
            "_model_name": "LayoutModel",
            "_view_count": null,
            "_view_module": "@jupyter-widgets/base",
            "_view_module_version": "1.2.0",
            "_view_name": "LayoutView",
            "align_content": null,
            "align_items": null,
            "align_self": null,
            "border": null,
            "bottom": null,
            "display": null,
            "flex": null,
            "flex_flow": null,
            "grid_area": null,
            "grid_auto_columns": null,
            "grid_auto_flow": null,
            "grid_auto_rows": null,
            "grid_column": null,
            "grid_gap": null,
            "grid_row": null,
            "grid_template_areas": null,
            "grid_template_columns": null,
            "grid_template_rows": null,
            "height": null,
            "justify_content": null,
            "justify_items": null,
            "left": null,
            "margin": null,
            "max_height": null,
            "max_width": null,
            "min_height": null,
            "min_width": null,
            "object_fit": null,
            "object_position": null,
            "order": null,
            "overflow": null,
            "overflow_x": null,
            "overflow_y": null,
            "padding": null,
            "right": null,
            "top": null,
            "visibility": null,
            "width": null
          }
        },
        "193b6e8bd05e43a393f784d5e47a3497": {
          "model_module": "@jupyter-widgets/controls",
          "model_name": "DescriptionStyleModel",
          "model_module_version": "1.5.0",
          "state": {
            "_model_module": "@jupyter-widgets/controls",
            "_model_module_version": "1.5.0",
            "_model_name": "DescriptionStyleModel",
            "_view_count": null,
            "_view_module": "@jupyter-widgets/base",
            "_view_module_version": "1.2.0",
            "_view_name": "StyleView",
            "description_width": ""
          }
        },
        "8daa0fcf52384137afec4b868bb0c4ed": {
          "model_module": "@jupyter-widgets/base",
          "model_name": "LayoutModel",
          "model_module_version": "1.2.0",
          "state": {
            "_model_module": "@jupyter-widgets/base",
            "_model_module_version": "1.2.0",
            "_model_name": "LayoutModel",
            "_view_count": null,
            "_view_module": "@jupyter-widgets/base",
            "_view_module_version": "1.2.0",
            "_view_name": "LayoutView",
            "align_content": null,
            "align_items": null,
            "align_self": null,
            "border": null,
            "bottom": null,
            "display": null,
            "flex": null,
            "flex_flow": null,
            "grid_area": null,
            "grid_auto_columns": null,
            "grid_auto_flow": null,
            "grid_auto_rows": null,
            "grid_column": null,
            "grid_gap": null,
            "grid_row": null,
            "grid_template_areas": null,
            "grid_template_columns": null,
            "grid_template_rows": null,
            "height": null,
            "justify_content": null,
            "justify_items": null,
            "left": null,
            "margin": null,
            "max_height": null,
            "max_width": null,
            "min_height": null,
            "min_width": null,
            "object_fit": null,
            "object_position": null,
            "order": null,
            "overflow": null,
            "overflow_x": null,
            "overflow_y": null,
            "padding": null,
            "right": null,
            "top": null,
            "visibility": null,
            "width": null
          }
        },
        "5d2919edfc7e47d69375d045b6fc6edf": {
          "model_module": "@jupyter-widgets/controls",
          "model_name": "ProgressStyleModel",
          "model_module_version": "1.5.0",
          "state": {
            "_model_module": "@jupyter-widgets/controls",
            "_model_module_version": "1.5.0",
            "_model_name": "ProgressStyleModel",
            "_view_count": null,
            "_view_module": "@jupyter-widgets/base",
            "_view_module_version": "1.2.0",
            "_view_name": "StyleView",
            "bar_color": null,
            "description_width": ""
          }
        },
        "ecb2c2a86fa14de290d347ba45027b66": {
          "model_module": "@jupyter-widgets/base",
          "model_name": "LayoutModel",
          "model_module_version": "1.2.0",
          "state": {
            "_model_module": "@jupyter-widgets/base",
            "_model_module_version": "1.2.0",
            "_model_name": "LayoutModel",
            "_view_count": null,
            "_view_module": "@jupyter-widgets/base",
            "_view_module_version": "1.2.0",
            "_view_name": "LayoutView",
            "align_content": null,
            "align_items": null,
            "align_self": null,
            "border": null,
            "bottom": null,
            "display": null,
            "flex": null,
            "flex_flow": null,
            "grid_area": null,
            "grid_auto_columns": null,
            "grid_auto_flow": null,
            "grid_auto_rows": null,
            "grid_column": null,
            "grid_gap": null,
            "grid_row": null,
            "grid_template_areas": null,
            "grid_template_columns": null,
            "grid_template_rows": null,
            "height": null,
            "justify_content": null,
            "justify_items": null,
            "left": null,
            "margin": null,
            "max_height": null,
            "max_width": null,
            "min_height": null,
            "min_width": null,
            "object_fit": null,
            "object_position": null,
            "order": null,
            "overflow": null,
            "overflow_x": null,
            "overflow_y": null,
            "padding": null,
            "right": null,
            "top": null,
            "visibility": null,
            "width": null
          }
        },
        "78de1068e2fd42d0805698ec6f3960d6": {
          "model_module": "@jupyter-widgets/controls",
          "model_name": "DescriptionStyleModel",
          "model_module_version": "1.5.0",
          "state": {
            "_model_module": "@jupyter-widgets/controls",
            "_model_module_version": "1.5.0",
            "_model_name": "DescriptionStyleModel",
            "_view_count": null,
            "_view_module": "@jupyter-widgets/base",
            "_view_module_version": "1.2.0",
            "_view_name": "StyleView",
            "description_width": ""
          }
        },
        "c97e8f277c50430dbd0870714e968c39": {
          "model_module": "@jupyter-widgets/controls",
          "model_name": "HBoxModel",
          "model_module_version": "1.5.0",
          "state": {
            "_dom_classes": [],
            "_model_module": "@jupyter-widgets/controls",
            "_model_module_version": "1.5.0",
            "_model_name": "HBoxModel",
            "_view_count": null,
            "_view_module": "@jupyter-widgets/controls",
            "_view_module_version": "1.5.0",
            "_view_name": "HBoxView",
            "box_style": "",
            "children": [
              "IPY_MODEL_b5b6c666ca734dbd9d754160ec69bead",
              "IPY_MODEL_7d9b8ae7f92b4f4e9f7a3694ec20fde7",
              "IPY_MODEL_e5bc63d1608a4b5780634fb1625c2c69"
            ],
            "layout": "IPY_MODEL_a43183d7bca344da924f6047f21b9338"
          }
        },
        "b5b6c666ca734dbd9d754160ec69bead": {
          "model_module": "@jupyter-widgets/controls",
          "model_name": "HTMLModel",
          "model_module_version": "1.5.0",
          "state": {
            "_dom_classes": [],
            "_model_module": "@jupyter-widgets/controls",
            "_model_module_version": "1.5.0",
            "_model_name": "HTMLModel",
            "_view_count": null,
            "_view_module": "@jupyter-widgets/controls",
            "_view_module_version": "1.5.0",
            "_view_name": "HTMLView",
            "description": "",
            "description_tooltip": null,
            "layout": "IPY_MODEL_f8643c423f3645b9860e3128c35bce54",
            "placeholder": "​",
            "style": "IPY_MODEL_9bda14f7005a49f291447ac6cacba4b4",
            "value": "100%"
          }
        },
        "7d9b8ae7f92b4f4e9f7a3694ec20fde7": {
          "model_module": "@jupyter-widgets/controls",
          "model_name": "FloatProgressModel",
          "model_module_version": "1.5.0",
          "state": {
            "_dom_classes": [],
            "_model_module": "@jupyter-widgets/controls",
            "_model_module_version": "1.5.0",
            "_model_name": "FloatProgressModel",
            "_view_count": null,
            "_view_module": "@jupyter-widgets/controls",
            "_view_module_version": "1.5.0",
            "_view_name": "ProgressView",
            "bar_style": "success",
            "description": "",
            "description_tooltip": null,
            "layout": "IPY_MODEL_9c052dba2faa42ba90a1c27dfec2d3c9",
            "max": 4542,
            "min": 0,
            "orientation": "horizontal",
            "style": "IPY_MODEL_5ae2a92c38f245a9a1423c1960973284",
            "value": 4542
          }
        },
        "e5bc63d1608a4b5780634fb1625c2c69": {
          "model_module": "@jupyter-widgets/controls",
          "model_name": "HTMLModel",
          "model_module_version": "1.5.0",
          "state": {
            "_dom_classes": [],
            "_model_module": "@jupyter-widgets/controls",
            "_model_module_version": "1.5.0",
            "_model_name": "HTMLModel",
            "_view_count": null,
            "_view_module": "@jupyter-widgets/controls",
            "_view_module_version": "1.5.0",
            "_view_name": "HTMLView",
            "description": "",
            "description_tooltip": null,
            "layout": "IPY_MODEL_b4f9dae8dfde4dd0a8b0d839cc6eab24",
            "placeholder": "​",
            "style": "IPY_MODEL_d35f95219bef4eeda020c3e571ff64ec",
            "value": " 4542/4542 [00:00&lt;00:00, 140763.64it/s]"
          }
        },
        "a43183d7bca344da924f6047f21b9338": {
          "model_module": "@jupyter-widgets/base",
          "model_name": "LayoutModel",
          "model_module_version": "1.2.0",
          "state": {
            "_model_module": "@jupyter-widgets/base",
            "_model_module_version": "1.2.0",
            "_model_name": "LayoutModel",
            "_view_count": null,
            "_view_module": "@jupyter-widgets/base",
            "_view_module_version": "1.2.0",
            "_view_name": "LayoutView",
            "align_content": null,
            "align_items": null,
            "align_self": null,
            "border": null,
            "bottom": null,
            "display": null,
            "flex": null,
            "flex_flow": null,
            "grid_area": null,
            "grid_auto_columns": null,
            "grid_auto_flow": null,
            "grid_auto_rows": null,
            "grid_column": null,
            "grid_gap": null,
            "grid_row": null,
            "grid_template_areas": null,
            "grid_template_columns": null,
            "grid_template_rows": null,
            "height": null,
            "justify_content": null,
            "justify_items": null,
            "left": null,
            "margin": null,
            "max_height": null,
            "max_width": null,
            "min_height": null,
            "min_width": null,
            "object_fit": null,
            "object_position": null,
            "order": null,
            "overflow": null,
            "overflow_x": null,
            "overflow_y": null,
            "padding": null,
            "right": null,
            "top": null,
            "visibility": null,
            "width": null
          }
        },
        "f8643c423f3645b9860e3128c35bce54": {
          "model_module": "@jupyter-widgets/base",
          "model_name": "LayoutModel",
          "model_module_version": "1.2.0",
          "state": {
            "_model_module": "@jupyter-widgets/base",
            "_model_module_version": "1.2.0",
            "_model_name": "LayoutModel",
            "_view_count": null,
            "_view_module": "@jupyter-widgets/base",
            "_view_module_version": "1.2.0",
            "_view_name": "LayoutView",
            "align_content": null,
            "align_items": null,
            "align_self": null,
            "border": null,
            "bottom": null,
            "display": null,
            "flex": null,
            "flex_flow": null,
            "grid_area": null,
            "grid_auto_columns": null,
            "grid_auto_flow": null,
            "grid_auto_rows": null,
            "grid_column": null,
            "grid_gap": null,
            "grid_row": null,
            "grid_template_areas": null,
            "grid_template_columns": null,
            "grid_template_rows": null,
            "height": null,
            "justify_content": null,
            "justify_items": null,
            "left": null,
            "margin": null,
            "max_height": null,
            "max_width": null,
            "min_height": null,
            "min_width": null,
            "object_fit": null,
            "object_position": null,
            "order": null,
            "overflow": null,
            "overflow_x": null,
            "overflow_y": null,
            "padding": null,
            "right": null,
            "top": null,
            "visibility": null,
            "width": null
          }
        },
        "9bda14f7005a49f291447ac6cacba4b4": {
          "model_module": "@jupyter-widgets/controls",
          "model_name": "DescriptionStyleModel",
          "model_module_version": "1.5.0",
          "state": {
            "_model_module": "@jupyter-widgets/controls",
            "_model_module_version": "1.5.0",
            "_model_name": "DescriptionStyleModel",
            "_view_count": null,
            "_view_module": "@jupyter-widgets/base",
            "_view_module_version": "1.2.0",
            "_view_name": "StyleView",
            "description_width": ""
          }
        },
        "9c052dba2faa42ba90a1c27dfec2d3c9": {
          "model_module": "@jupyter-widgets/base",
          "model_name": "LayoutModel",
          "model_module_version": "1.2.0",
          "state": {
            "_model_module": "@jupyter-widgets/base",
            "_model_module_version": "1.2.0",
            "_model_name": "LayoutModel",
            "_view_count": null,
            "_view_module": "@jupyter-widgets/base",
            "_view_module_version": "1.2.0",
            "_view_name": "LayoutView",
            "align_content": null,
            "align_items": null,
            "align_self": null,
            "border": null,
            "bottom": null,
            "display": null,
            "flex": null,
            "flex_flow": null,
            "grid_area": null,
            "grid_auto_columns": null,
            "grid_auto_flow": null,
            "grid_auto_rows": null,
            "grid_column": null,
            "grid_gap": null,
            "grid_row": null,
            "grid_template_areas": null,
            "grid_template_columns": null,
            "grid_template_rows": null,
            "height": null,
            "justify_content": null,
            "justify_items": null,
            "left": null,
            "margin": null,
            "max_height": null,
            "max_width": null,
            "min_height": null,
            "min_width": null,
            "object_fit": null,
            "object_position": null,
            "order": null,
            "overflow": null,
            "overflow_x": null,
            "overflow_y": null,
            "padding": null,
            "right": null,
            "top": null,
            "visibility": null,
            "width": null
          }
        },
        "5ae2a92c38f245a9a1423c1960973284": {
          "model_module": "@jupyter-widgets/controls",
          "model_name": "ProgressStyleModel",
          "model_module_version": "1.5.0",
          "state": {
            "_model_module": "@jupyter-widgets/controls",
            "_model_module_version": "1.5.0",
            "_model_name": "ProgressStyleModel",
            "_view_count": null,
            "_view_module": "@jupyter-widgets/base",
            "_view_module_version": "1.2.0",
            "_view_name": "StyleView",
            "bar_color": null,
            "description_width": ""
          }
        },
        "b4f9dae8dfde4dd0a8b0d839cc6eab24": {
          "model_module": "@jupyter-widgets/base",
          "model_name": "LayoutModel",
          "model_module_version": "1.2.0",
          "state": {
            "_model_module": "@jupyter-widgets/base",
            "_model_module_version": "1.2.0",
            "_model_name": "LayoutModel",
            "_view_count": null,
            "_view_module": "@jupyter-widgets/base",
            "_view_module_version": "1.2.0",
            "_view_name": "LayoutView",
            "align_content": null,
            "align_items": null,
            "align_self": null,
            "border": null,
            "bottom": null,
            "display": null,
            "flex": null,
            "flex_flow": null,
            "grid_area": null,
            "grid_auto_columns": null,
            "grid_auto_flow": null,
            "grid_auto_rows": null,
            "grid_column": null,
            "grid_gap": null,
            "grid_row": null,
            "grid_template_areas": null,
            "grid_template_columns": null,
            "grid_template_rows": null,
            "height": null,
            "justify_content": null,
            "justify_items": null,
            "left": null,
            "margin": null,
            "max_height": null,
            "max_width": null,
            "min_height": null,
            "min_width": null,
            "object_fit": null,
            "object_position": null,
            "order": null,
            "overflow": null,
            "overflow_x": null,
            "overflow_y": null,
            "padding": null,
            "right": null,
            "top": null,
            "visibility": null,
            "width": null
          }
        },
        "d35f95219bef4eeda020c3e571ff64ec": {
          "model_module": "@jupyter-widgets/controls",
          "model_name": "DescriptionStyleModel",
          "model_module_version": "1.5.0",
          "state": {
            "_model_module": "@jupyter-widgets/controls",
            "_model_module_version": "1.5.0",
            "_model_name": "DescriptionStyleModel",
            "_view_count": null,
            "_view_module": "@jupyter-widgets/base",
            "_view_module_version": "1.2.0",
            "_view_name": "StyleView",
            "description_width": ""
          }
        }
      }
    }
  },
  "nbformat": 4,
  "nbformat_minor": 0
}